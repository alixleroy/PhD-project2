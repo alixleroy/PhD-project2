{
 "cells": [
  {
   "cell_type": "code",
   "execution_count": 5,
   "metadata": {},
   "outputs": [],
   "source": [
    "from vedo.dolfin import plot, Latex, clear, histogram\n",
    "import matplotlib.pyplot as plt\n",
    "import numpy as np\n",
    "\n",
    "from Master_Solver import master_solver\n",
    "from Stretch_Mesh import stretch_mesh\n",
    "from Time_Stepping import find_t_list"
   ]
  },
  {
   "cell_type": "code",
   "execution_count": 7,
   "metadata": {},
   "outputs": [
    {
     "name": "stdout",
     "output_type": "stream",
     "text": [
      "Solving linear variational problem.\n",
      "Solving linear variational problem.\n",
      "Solving linear variational problem.\n",
      "Solving linear variational problem.\n",
      "Solving linear variational problem.\n",
      "Solving linear variational problem.\n",
      "Solving linear variational problem.\n",
      "Solving linear variational problem.\n",
      "Solving linear variational problem.\n",
      "Solving linear variational problem.\n",
      "Solving linear variational problem.\n",
      "Solving linear variational problem.\n",
      "Solving linear variational problem.\n",
      "Solving linear variational problem.\n",
      "Solving linear variational problem.\n",
      "Solving linear variational problem.\n",
      "Solving linear variational problem.\n",
      "Solving linear variational problem.\n",
      "Solving linear variational problem.\n",
      "Solving linear variational problem.\n",
      "Solving linear variational problem.\n",
      "Solving linear variational problem.\n",
      "Solving linear variational problem.\n",
      "Solving linear variational problem.\n",
      "Solving linear variational problem.\n",
      "Solving linear variational problem.\n",
      "Solving linear variational problem.\n",
      "Solving linear variational problem.\n",
      "Solving linear variational problem.\n",
      "Solving linear variational problem.\n",
      "Solving linear variational problem.\n",
      "Solving linear variational problem.\n",
      "Solving linear variational problem.\n",
      "Solving linear variational problem.\n",
      "Solving linear variational problem.\n",
      "Solving linear variational problem.\n",
      "Solving linear variational problem.\n",
      "Solving linear variational problem.\n",
      "Solving linear variational problem.\n",
      "Solving linear variational problem.\n",
      "Solving linear variational problem.\n",
      "Solving linear variational problem.\n",
      "Solving linear variational problem.\n",
      "Solving linear variational problem.\n",
      "Solving linear variational problem.\n",
      "Solving linear variational problem.\n",
      "Solving linear variational problem.\n",
      "Solving linear variational problem.\n",
      "Solving linear variational problem.\n",
      "Solving linear variational problem.\n",
      "Solving linear variational problem.\n",
      "Solving linear variational problem.\n",
      "Solving linear variational problem.\n",
      "Solving linear variational problem.\n",
      "Solving linear variational problem.\n",
      "Solving linear variational problem.\n",
      "Solving linear variational problem.\n",
      "Solving linear variational problem.\n",
      "Solving linear variational problem.\n",
      "Solving linear variational problem.\n",
      "Solving linear variational problem.\n",
      "Solving linear variational problem.\n",
      "Solving linear variational problem.\n",
      "Solving linear variational problem.\n",
      "Solving linear variational problem.\n",
      "Solving linear variational problem.\n",
      "Solving linear variational problem.\n",
      "Solving linear variational problem.\n",
      "Solving linear variational problem.\n",
      "Solving linear variational problem.\n",
      "Solving linear variational problem.\n",
      "Solving linear variational problem.\n",
      "Solving linear variational problem.\n",
      "Solving linear variational problem.\n",
      "Solving linear variational problem.\n",
      "Solving linear variational problem.\n",
      "Solving linear variational problem.\n",
      "Solving linear variational problem.\n",
      "Solving linear variational problem.\n",
      "Solving linear variational problem.\n",
      "Solving linear variational problem.\n",
      "Solving linear variational problem.\n",
      "Solving linear variational problem.\n",
      "Solving linear variational problem.\n",
      "Solving linear variational problem.\n",
      "Solving linear variational problem.\n",
      "Solving linear variational problem.\n",
      "Solving linear variational problem.\n",
      "Solving linear variational problem.\n",
      "Solving linear variational problem.\n",
      "Solving linear variational problem.\n",
      "Solving linear variational problem.\n",
      "Solving linear variational problem.\n",
      "Solving linear variational problem.\n",
      "Solving linear variational problem.\n",
      "Solving linear variational problem.\n",
      "Solving linear variational problem.\n",
      "Solving linear variational problem.\n",
      "Solving linear variational problem.\n",
      "Solving linear variational problem.\n"
     ]
    }
   ],
   "source": [
    "# Coarse.\n",
    "tau = 1/10\n",
    "epsilon = 1/200\n",
    "num_steps = 100\n",
    "nx = 32\n",
    "ny = 32\n",
    "alpha = 0\n",
    "\n",
    "# Time stepping.\n",
    "dt_min = 1e-3\n",
    "dt_max = 0.1\n",
    "reg = 10\n",
    "\n",
    "mesh = stretch_mesh(nx=nx, ny=ny)\n",
    "\n",
    "u_list, t_list = master_solver(#nx,\n",
    "                               #ny,\n",
    "                               mesh,\n",
    "                               tau,\n",
    "                               alpha,\n",
    "                               epsilon,\n",
    "                               num_steps,\n",
    "                               dt_min,\n",
    "                               dt_max,\n",
    "                               reg)\n"
   ]
  },
  {
   "cell_type": "code",
   "execution_count": 8,
   "metadata": {},
   "outputs": [
    {
     "data": {
      "text/plain": [
       "[<matplotlib.lines.Line2D at 0x7f0fd5dfc460>]"
      ]
     },
     "execution_count": 8,
     "metadata": {},
     "output_type": "execute_result"
    },
    {
     "data": {
      "image/png": "[encoded data removed]",
      "text/plain": [
       "<Figure size 432x288 with 1 Axes>"
      ]
     },
     "metadata": {
      "needs_background": "light"
     },
     "output_type": "display_data"
    }
   ],
   "source": [
    "#plt.plot(t_list, np.linalg.norm(u_list, axis=1))\n",
    "#plt.plot(t_list)\n",
    "plt.plot(np.array(t_list)[:-1], np.array(t_list)[1:] - np.array(t_list)[:-1])"
   ]
  },
  {
   "cell_type": "code",
   "execution_count": 12,
   "metadata": {},
   "outputs": [
    {
     "name": "stdout",
     "output_type": "stream",
     "text": [
      "[0.00171653 0.00205337 0.00245478 0.00293252 0.00350015 0.00417332\n",
      " 0.00496982 0.00590971 0.00701526 0.00831077 0.00982219 0.0115764\n",
      " 0.01360013 0.01591856 0.0185533  0.02152013 0.02482626 0.02846768\n",
      " 0.03242663 0.0366699  0.04114828 0.04579764 0.05054174 0.05529677\n",
      " 0.05997709 0.06450123 0.06879759 0.07280861 0.07649336 0.07982798\n",
      " 0.08280463 0.08542903 0.08771753 0.08969388 0.09138633 0.09282518\n",
      " 0.09404085 0.09506257 0.09591746 0.09663009 0.09722229 0.09771314\n",
      " 0.09811909 0.09845424 0.09873052 0.098958   0.0991451  0.09929887\n",
      " 0.09942516 0.09952882 0.09961386 0.09968361 0.0997408  0.09978768\n",
      " 0.09982609 0.09985757 0.09988335 0.09990447 0.09992177 0.09993594\n",
      " 0.09994755 0.09995705 0.09996483 0.09997121 0.09997642 0.0999807\n",
      " 0.0999842  0.09998706 0.09998941 0.09999133 0.0999929  0.09999419\n",
      " 0.09999524 0.0999961  0.09999681 0.09999739 0.09999786 0.09999825\n",
      " 0.09999857 0.09999883 0.09999904 0.09999921 0.09999936 0.09999947\n",
      " 0.09999957 0.09999965 0.09999971 0.09999976 0.09999981 0.09999984\n",
      " 0.09999987 0.09999989 0.09999991 0.09999993 0.09999994 0.09999995\n",
      " 0.09999996 0.09999997 0.09999997 0.09999998 0.09999998 0.09999999\n",
      " 0.09999999 0.09999999 0.09999999 0.09999999 0.09999999 0.1\n",
      " 0.1        0.1        0.1        0.1        0.1        0.1\n",
      " 0.1        0.1        0.1        0.1        0.1        0.1\n",
      " 0.1        0.1        0.1        0.1        0.1        0.1\n",
      " 0.1        0.1        0.1        0.1        0.1        0.1\n",
      " 0.1        0.1        0.1        0.1        0.1        0.1\n",
      " 0.1        0.1        0.1        0.1        0.1        0.1\n",
      " 0.1        0.1        0.1        0.1        0.1        0.1\n",
      " 0.1        0.1        0.1        0.1        0.1        0.1\n",
      " 0.1        0.1        0.1        0.1        0.1        0.1\n",
      " 0.1        0.1        0.1        0.1        0.1        0.1\n",
      " 0.1        0.1        0.1        0.1        0.1        0.1\n",
      " 0.1        0.1        0.1        0.1        0.1        0.1\n",
      " 0.1        0.1        0.1        0.1        0.1        0.1\n",
      " 0.1        0.1        0.1        0.1        0.1        0.1\n",
      " 0.1        0.1        0.1        0.1        0.1        0.1\n",
      " 0.1        0.1        0.1        0.1        0.1        0.1\n",
      " 0.1        0.1        0.1        0.1        0.1        0.1\n",
      " 0.1        0.1        0.1        0.1        0.1        0.1\n",
      " 0.1        0.1        0.1        0.1        0.1        0.1\n",
      " 0.1        0.1        0.1        0.1        0.1        0.1\n",
      " 0.1        0.1        0.1        0.1        0.1        0.1\n",
      " 0.1        0.1        0.1        0.1        0.1        0.1\n",
      " 0.1        0.1        0.1        0.1        0.1        0.1\n",
      " 0.1        0.1        0.1        0.1        0.1        0.1\n",
      " 0.1        0.1        0.1        0.1        0.1        0.1\n",
      " 0.1        0.1        0.1        0.1        0.1        0.1\n",
      " 0.1        0.1        0.1        0.1        0.1        0.1\n",
      " 0.1        0.1        0.1        0.1        0.1        0.1\n",
      " 0.1        0.1        0.1        0.1        0.1        0.1\n",
      " 0.1        0.1        0.1        0.1        0.1        0.1\n",
      " 0.1        0.1        0.1        0.1        0.1        0.1\n",
      " 0.1        0.1        0.1        0.1        0.1        0.1\n",
      " 0.1        0.1        0.1        0.1        0.1        0.1\n",
      " 0.1        0.1        0.1        0.1        0.1        0.1\n",
      " 0.1        0.1        0.1        0.1        0.1        0.1\n",
      " 0.1        0.1        0.1        0.1        0.1        0.1\n",
      " 0.1        0.1        0.1        0.1        0.1        0.1\n",
      " 0.1        0.1        0.1        0.1        0.1        0.1\n",
      " 0.1        0.1        0.1        0.1        0.1        0.1\n",
      " 0.1        0.1        0.1        0.1        0.1        0.1\n",
      " 0.1        0.1        0.1        0.1        0.1        0.1\n",
      " 0.1        0.1        0.1        0.1        0.1        0.1\n",
      " 0.1        0.1        0.1        0.1        0.1        0.1\n",
      " 0.1        0.1        0.1        0.1        0.1        0.1\n",
      " 0.1        0.1        0.1        0.1        0.1        0.1\n",
      " 0.1        0.1        0.1        0.1        0.1        0.1\n",
      " 0.1        0.1        0.1        0.1        0.1        0.1\n",
      " 0.1        0.1        0.1        0.1        0.1        0.1\n",
      " 0.1        0.1        0.1        0.1        0.1        0.1\n",
      " 0.1        0.1        0.1        0.1        0.1        0.1\n",
      " 0.1        0.1        0.1        0.1        0.1        0.1\n",
      " 0.1        0.1        0.1        0.1        0.1        0.1\n",
      " 0.1        0.1        0.1        0.1        0.1        0.1\n",
      " 0.1        0.1        0.1        0.1        0.1        0.1\n",
      " 0.1        0.1        0.1        0.1        0.1        0.1\n",
      " 0.1        0.1        0.1        0.1        0.1        0.1\n",
      " 0.1        0.1        0.1        0.1        0.1        0.1\n",
      " 0.1        0.1        0.1        0.1        0.1        0.1\n",
      " 0.1        0.1        0.1        0.1        0.1        0.1\n",
      " 0.1        0.1        0.1        0.1        0.1        0.1\n",
      " 0.1        0.1        0.1        0.1        0.1        0.1\n",
      " 0.1        0.1        0.1        0.1        0.1        0.1\n",
      " 0.1        0.1        0.1        0.1        0.1        0.1\n",
      " 0.1        0.1        0.1        0.1        0.1        0.1\n",
      " 0.1        0.1        0.1        0.1        0.1        0.1\n",
      " 0.1        0.1        0.1        0.1        0.1        0.1\n",
      " 0.1        0.1        0.1        0.1        0.1        0.1\n",
      " 0.1        0.1        0.1        0.1        0.1        0.1\n",
      " 0.1        0.1        0.1        0.1        0.1        0.1\n",
      " 0.1        0.1        0.1        0.1        0.1        0.1\n",
      " 0.1        0.1        0.1        0.1        0.1        0.1\n",
      " 0.1        0.1        0.1        0.1        0.1        0.1\n",
      " 0.1        0.1        0.1        0.1        0.1        0.1\n",
      " 0.1        0.1        0.1        0.1        0.1        0.1\n",
      " 0.1        0.1        0.1        0.1        0.1        0.1\n",
      " 0.1        0.1        0.1        0.1        0.1        0.1\n",
      " 0.1        0.1        0.1        0.1        0.1        0.1\n",
      " 0.1        0.1        0.1        0.1        0.1        0.1\n",
      " 0.1        0.1        0.1        0.1        0.1        0.1\n",
      " 0.1        0.1        0.1        0.1        0.1        0.1\n",
      " 0.1        0.1        0.1        0.1        0.1        0.1\n",
      " 0.1        0.1        0.1        0.1        0.1        0.1\n",
      " 0.1        0.1        0.1        0.1        0.1        0.1\n",
      " 0.1        0.1        0.1        0.1        0.1        0.1\n",
      " 0.1        0.1        0.1        0.1        0.1        0.1\n",
      " 0.1        0.1        0.1        0.1        0.1        0.1\n",
      " 0.1        0.1        0.1        0.1        0.1        0.1\n",
      " 0.1        0.1        0.1        0.1        0.1        0.1\n",
      " 0.1        0.1        0.1        0.1        0.1        0.1\n",
      " 0.1        0.1        0.1        0.1        0.1        0.1\n",
      " 0.1        0.1        0.1        0.1        0.1        0.1\n",
      " 0.1        0.1        0.1        0.1        0.1        0.1\n",
      " 0.1        0.1        0.1        0.1        0.1        0.1\n",
      " 0.1        0.1        0.1        0.1        0.1        0.1\n",
      " 0.1        0.1        0.1        0.1        0.1        0.1\n",
      " 0.1        0.1        0.1        0.1        0.1        0.1\n",
      " 0.1        0.1        0.1        0.1        0.1        0.1\n",
      " 0.1        0.1        0.1        0.1        0.1        0.1\n",
      " 0.1        0.1        0.1        0.1        0.1        0.1\n",
      " 0.1        0.1        0.1        0.1        0.1        0.1\n",
      " 0.1        0.1        0.1        0.1        0.1        0.1\n",
      " 0.1        0.1        0.1        0.1        0.1        0.1\n",
      " 0.1        0.1        0.1        0.1        0.1        0.1\n",
      " 0.1        0.1        0.1        0.1        0.1        0.1\n",
      " 0.1        0.1        0.1        0.1        0.1        0.1\n",
      " 0.1        0.1        0.1        0.1        0.1        0.1\n",
      " 0.1        0.1        0.1        0.1        0.1        0.1\n",
      " 0.1        0.1        0.1        0.1        0.1        0.1\n",
      " 0.1        0.1        0.1        0.1        0.1        0.1\n",
      " 0.1        0.1        0.1        0.1        0.1        0.1\n",
      " 0.1        0.1        0.1        0.1        0.1        0.1\n",
      " 0.1        0.1        0.1        0.1        0.1        0.1\n",
      " 0.1        0.1        0.1        0.1        0.1        0.1\n",
      " 0.1        0.1        0.1        0.1        0.1        0.1\n",
      " 0.1        0.1        0.1        0.1        0.1        0.1\n",
      " 0.1        0.1        0.1        0.1        0.1        0.1\n",
      " 0.1        0.1        0.1        0.1        0.1        0.1\n",
      " 0.1        0.1        0.1        0.1        0.1        0.1\n",
      " 0.1        0.1        0.1        0.1        0.1        0.1\n",
      " 0.1        0.1        0.1        0.1        0.1        0.1\n",
      " 0.1        0.1        0.1        0.1        0.1        0.1\n",
      " 0.1        0.1        0.1        0.1        0.1        0.1\n",
      " 0.1        0.1        0.1        0.1        0.1        0.1\n",
      " 0.1        0.1        0.1        0.1        0.1        0.1\n",
      " 0.1        0.1        0.1        0.1        0.1        0.1\n",
      " 0.1        0.1        0.1        0.1        0.1        0.1\n",
      " 0.1        0.1        0.1        0.1        0.1        0.1\n",
      " 0.1        0.1        0.1        0.1        0.1        0.1\n",
      " 0.1        0.1        0.1        0.1        0.1        0.1\n",
      " 0.1        0.1        0.1        0.1        0.1        0.1\n",
      " 0.1        0.1        0.1        0.1        0.1        0.1\n",
      " 0.1        0.1        0.1        0.1        0.1        0.1\n",
      " 0.1        0.1        0.1        0.1        0.1        0.1\n",
      " 0.1        0.1        0.1        0.1        0.1        0.1\n",
      " 0.1        0.1        0.1        0.1        0.1        0.1\n",
      " 0.1        0.1        0.1        0.1        0.1        0.1\n",
      " 0.1        0.1        0.1        0.1        0.1        0.1\n",
      " 0.1        0.1        0.1        0.1        0.1        0.1\n",
      " 0.1        0.1        0.1        0.1        0.1        0.1\n",
      " 0.1        0.1        0.1        0.1        0.1        0.1\n",
      " 0.1        0.1        0.1        0.1        0.1        0.1\n",
      " 0.1        0.1        0.1        0.1        0.1        0.1\n",
      " 0.1        0.1        0.1        0.1        0.1        0.1\n",
      " 0.1        0.1        0.1        0.1        0.1        0.1\n",
      " 0.1        0.1        0.1        0.1        0.1        0.1\n",
      " 0.1        0.1        0.1        0.1        0.1        0.1\n",
      " 0.1        0.1        0.1        0.1        0.1        0.1       ]\n"
     ]
    }
   ],
   "source": [
    "print(np.array(t_list)[1:] - np.array(t_list)[:-1])"
   ]
  },
  {
   "cell_type": "code",
   "execution_count": 9,
   "metadata": {},
   "outputs": [
    {
     "name": "stdout",
     "output_type": "stream",
     "text": [
      "[0, 0.001, 0.0020989505, 0.0033065287, 0.0046333344, 0.0060909735, 0.0076921472, 0.0094507484, 0.0113819652, 0.0135023913, 0.0158301439, 0.018384989, 0.0211884736, 0.0242640655, 0.0276372994, 0.0313359289, 0.0353900836, 0.0398324301, 0.0446983353, 0.0500260296, 0.0558567678, 0.0622349847, 0.0692084413, 0.0768283578, 0.0851495277, 0.0942304075, 0.1041331755, 0.1149237524, 0.1266717754, 0.1394505183, 0.1533367481, 0.1684105092, 0.184754828, 0.2024553288, 0.2215997552, 0.2422773921, 0.2645783866, 0.2885929678, 0.314410571, 0.3421188742, 0.3718027612, 0.4035432291, 0.4374162631, 0.4734917064, 0.5118321552, 0.5524919131, 0.5955160378, 0.6409395146, 0.6887865861, 0.7390702654, 0.791792052, 0.8469418632, 0.9044981846, 0.9644284354, 1.0266895346, 1.0912286476, 1.1579840857, 1.2268863265, 1.2978591206, 1.3708206489, 1.4456846962, 1.5223618092, 1.6007604111, 1.680787849, 1.7623513563, 1.8453589171, 1.9297200244, 2.015346329, 2.1021521794, 2.1900550562, 2.2789759081, 2.3688393962, 2.4595740571, 2.5511123935, 2.6433909027, 2.7363500524, 2.8299342133, 2.9240915564, 3.0187739233, 3.1139366755, 3.2095385291, 3.3055413802, 3.4019101247, 3.4986124759, 3.595618784, 3.6929018581, 3.7904367936, 3.8882008059, 3.9861730716, 4.0843345776, 4.1826679782, 4.2811574614, 4.3797886231, 4.4785483505, 4.5774247127, 4.6764068601, 4.775484931, 4.8746499657, 4.9738938267, 5.0732091263]\n"
     ]
    }
   ],
   "source": [
    "print(t_list)"
   ]
  },
  {
   "cell_type": "code",
   "execution_count": 2,
   "metadata": {},
   "outputs": [
    {
     "name": "stdout",
     "output_type": "stream",
     "text": [
      "[0, 0.001, 0.0020989505, 0.0033065287, 0.0046333344, 0.0060909735, 0.0076921472, 0.0094507484, 0.0113819652, 0.0135023913, 0.0158301439, 0.018384989, 0.0211884736, 0.0242640655, 0.0276372994, 0.0313359289, 0.0353900836, 0.0398324301, 0.0446983353, 0.0500260296, 0.0558567678, 0.0622349847, 0.0692084413, 0.0768283578, 0.0851495277, 0.0942304075, 0.1041331755, 0.1149237524, 0.1266717754, 0.1394505183, 0.1533367481, 0.1684105092, 0.184754828, 0.2024553288, 0.2215997552, 0.2422773921, 0.2645783866, 0.2885929678, 0.314410571, 0.3421188742, 0.3718027612, 0.4035432291, 0.4374162631, 0.4734917064, 0.5118321552, 0.5524919131, 0.5955160378, 0.6409395146, 0.6887865861, 0.7390702654, 0.791792052, 0.8469418632, 0.9044981846, 0.9644284354, 1.0266895346, 1.0912286476, 1.1579840857, 1.2268863265, 1.2978591206, 1.3708206489, 1.4456846962, 1.5223618092, 1.6007604111, 1.680787849, 1.7623513563, 1.8453589171, 1.9297200244, 2.015346329, 2.1021521794, 2.1900550562, 2.2789759081, 2.3688393962, 2.4595740571, 2.5511123935, 2.6433909027, 2.7363500524, 2.8299342133, 2.9240915564, 3.0187739233, 3.1139366755, 3.2095385291, 3.3055413802, 3.4019101247, 3.4986124759, 3.595618784, 3.6929018581, 3.7904367936, 3.8882008059, 3.9861730716, 4.0843345776, 4.1826679782, 4.2811574614, 4.3797886231, 4.4785483505, 4.5774247127, 4.6764068601, 4.775484931, 4.8746499657, 4.9738938267, 5.0732091263, 5.1725891595]\n"
     ]
    }
   ],
   "source": [
    "\n",
    "tau = 1/10\n",
    "dt_min = 1e-3\n",
    "dt_max = 0.1\n",
    "reg = 10\n",
    "num_steps = 100\n",
    "\n",
    "t_list_f = find_t_list(dt_min, dt_max, tau, reg, num_steps)\n",
    "print(t_list_f)\n"
   ]
  },
  {
   "cell_type": "code",
   "execution_count": 4,
   "metadata": {},
   "outputs": [
    {
     "data": {
      "text/plain": [
       "array([0., 0., 0., 0., 0., 0., 0., 0., 0., 0., 0., 0., 0., 0., 0., 0., 0.,\n",
       "       0., 0., 0., 0., 0., 0., 0., 0., 0., 0., 0., 0., 0., 0., 0., 0., 0.,\n",
       "       0., 0., 0., 0., 0., 0., 0., 0., 0., 0., 0., 0., 0., 0., 0., 0., 0.,\n",
       "       0., 0., 0., 0., 0., 0., 0., 0., 0., 0., 0., 0., 0., 0., 0., 0., 0.,\n",
       "       0., 0., 0., 0., 0., 0., 0., 0., 0., 0., 0., 0., 0., 0., 0., 0., 0.,\n",
       "       0., 0., 0., 0., 0., 0., 0., 0., 0., 0., 0., 0., 0., 0., 0.])"
      ]
     },
     "execution_count": 4,
     "metadata": {},
     "output_type": "execute_result"
    }
   ],
   "source": [
    "np.array([0, 0.001, 0.0020989505, 0.0033065287, 0.0046333344, 0.0060909735, 0.0076921472, 0.0094507484, 0.0113819652, 0.0135023913, 0.0158301439, 0.018384989, 0.0211884736, 0.0242640655, 0.0276372994, 0.0313359289, 0.0353900836, 0.0398324301, 0.0446983353, 0.0500260296, 0.0558567678, 0.0622349847, 0.0692084413, 0.0768283578, 0.0851495277, 0.0942304075, 0.1041331755, 0.1149237524, 0.1266717754, 0.1394505183, 0.1533367481, 0.1684105092, 0.184754828, 0.2024553288, 0.2215997552, 0.2422773921, 0.2645783866, 0.2885929678, 0.314410571, 0.3421188742, 0.3718027612, 0.4035432291, 0.4374162631, 0.4734917064, 0.5118321552, 0.5524919131, 0.5955160378, 0.6409395146, 0.6887865861, 0.7390702654, 0.791792052, 0.8469418632, 0.9044981846, 0.9644284354, 1.0266895346, 1.0912286476, 1.1579840857, 1.2268863265, 1.2978591206, 1.3708206489, 1.4456846962, 1.5223618092, 1.6007604111, 1.680787849, 1.7623513563, 1.8453589171, 1.9297200244, 2.015346329, 2.1021521794, 2.1900550562, 2.2789759081, 2.3688393962, 2.4595740571, 2.5511123935, 2.6433909027, 2.7363500524, 2.8299342133, 2.9240915564, 3.0187739233, 3.1139366755, 3.2095385291, 3.3055413802, 3.4019101247, 3.4986124759, 3.595618784, 3.6929018581, 3.7904367936, 3.8882008059, 3.9861730716, 4.0843345776, 4.1826679782, 4.2811574614, 4.3797886231, 4.4785483505, 4.5774247127, 4.6764068601, 4.775484931, 4.8746499657, 4.9738938267, 5.0732091263]) - np.array([0, 0.001, 0.0020989505, 0.0033065287, 0.0046333344, 0.0060909735, 0.0076921472, 0.0094507484, 0.0113819652, 0.0135023913, 0.0158301439, 0.018384989, 0.0211884736, 0.0242640655, 0.0276372994, 0.0313359289, 0.0353900836, 0.0398324301, 0.0446983353, 0.0500260296, 0.0558567678, 0.0622349847, 0.0692084413, 0.0768283578, 0.0851495277, 0.0942304075, 0.1041331755, 0.1149237524, 0.1266717754, 0.1394505183, 0.1533367481, 0.1684105092, 0.184754828, 0.2024553288, 0.2215997552, 0.2422773921, 0.2645783866, 0.2885929678, 0.314410571, 0.3421188742, 0.3718027612, 0.4035432291, 0.4374162631, 0.4734917064, 0.5118321552, 0.5524919131, 0.5955160378, 0.6409395146, 0.6887865861, 0.7390702654, 0.791792052, 0.8469418632, 0.9044981846, 0.9644284354, 1.0266895346, 1.0912286476, 1.1579840857, 1.2268863265, 1.2978591206, 1.3708206489, 1.4456846962, 1.5223618092, 1.6007604111, 1.680787849, 1.7623513563, 1.8453589171, 1.9297200244, 2.015346329, 2.1021521794, 2.1900550562, 2.2789759081, 2.3688393962, 2.4595740571, 2.5511123935, 2.6433909027, 2.7363500524, 2.8299342133, 2.9240915564, 3.0187739233, 3.1139366755, 3.2095385291, 3.3055413802, 3.4019101247, 3.4986124759, 3.595618784, 3.6929018581, 3.7904367936, 3.8882008059, 3.9861730716, 4.0843345776, 4.1826679782, 4.2811574614, 4.3797886231, 4.4785483505, 4.5774247127, 4.6764068601, 4.775484931, 4.8746499657, 4.9738938267, 5.0732091263])"
   ]
  },
  {
   "cell_type": "code",
   "execution_count": 12,
   "metadata": {},
   "outputs": [
    {
     "data": {
      "text/plain": [
       "[<matplotlib.lines.Line2D at 0x7f9ba8bd80a0>]"
      ]
     },
     "execution_count": 12,
     "metadata": {},
     "output_type": "execute_result"
    },
    {
     "data": {
      "image/png": "[encoded data removed]",
      "text/plain": [
       "<Figure size 432x288 with 3 Axes>"
      ]
     },
     "metadata": {
      "needs_background": "light"
     },
     "output_type": "display_data"
    }
   ],
   "source": [
    "# testing data storage 1\n",
    "\n",
    "import pickle\n",
    "import numpy as np\n",
    "import matplotlib.pyplot as plt\n",
    "\n",
    "with open('/home/s1634937/Documents/Project 2/PhD-project2/Master/master_data_project', 'rb') as file:\n",
    "    y_proj = pickle.load(file)\n",
    "\n",
    "with open('/home/s1634937/Documents/Project 2/PhD-project2/Master/master_data_interpolate', 'rb') as file:\n",
    "    y_interp = pickle.load(file)\n",
    "\n",
    "np.shape(y_proj)\n",
    "np.shape(y_interp)\n",
    "\n",
    "fig, ax = plt.subplots(3)\n",
    "ax[0].plot(np.linalg.norm(y_proj, axis=1))\n",
    "ax[1].plot(np.linalg.norm(y_interp, axis=1))\n",
    "ax[2].plot(np.linalg.norm((np.array(y_proj)-np.array(y_interp)), axis=1))"
   ]
  },
  {
   "cell_type": "code",
   "execution_count": 32,
   "metadata": {},
   "outputs": [
    {
     "ename": "EOFError",
     "evalue": "Ran out of input",
     "output_type": "error",
     "traceback": [
      "\u001b[0;31m---------------------------------------------------------------------------\u001b[0m",
      "\u001b[0;31mEOFError\u001b[0m                                  Traceback (most recent call last)",
      "\u001b[1;32m/home/s1634937/Documents/Project 2/PhD-project2/Master/test.ipynb Cell 9'\u001b[0m in \u001b[0;36m<module>\u001b[0;34m\u001b[0m\n\u001b[1;32m     <a href='vscode-notebook-cell:/home/s1634937/Documents/Project%202/PhD-project2/Master/test.ipynb#ch0000008?line=10'>11</a>\u001b[0m \u001b[39mfor\u001b[39;00m i \u001b[39min\u001b[39;00m \u001b[39mrange\u001b[39m(\u001b[39m7\u001b[39m):\n\u001b[1;32m     <a href='vscode-notebook-cell:/home/s1634937/Documents/Project%202/PhD-project2/Master/test.ipynb#ch0000008?line=12'>13</a>\u001b[0m     \u001b[39mwith\u001b[39;00m \u001b[39mopen\u001b[39m(\u001b[39mf\u001b[39m\u001b[39m'\u001b[39m\u001b[39m/home/s1634937/Documents/Project 2/PhD-project2/Master/Data/master_data_\u001b[39m\u001b[39m{\u001b[39;00mindex[i]\u001b[39m}\u001b[39;00m\u001b[39m_project\u001b[39m\u001b[39m'\u001b[39m, \u001b[39m'\u001b[39m\u001b[39mrb\u001b[39m\u001b[39m'\u001b[39m) \u001b[39mas\u001b[39;00m file:\n\u001b[0;32m---> <a href='vscode-notebook-cell:/home/s1634937/Documents/Project%202/PhD-project2/Master/test.ipynb#ch0000008?line=13'>14</a>\u001b[0m         y_proj \u001b[39m=\u001b[39m pickle\u001b[39m.\u001b[39;49mload(file)\n\u001b[1;32m     <a href='vscode-notebook-cell:/home/s1634937/Documents/Project%202/PhD-project2/Master/test.ipynb#ch0000008?line=15'>16</a>\u001b[0m     ax[\u001b[39m0\u001b[39m]\u001b[39m.\u001b[39mplot(np\u001b[39m.\u001b[39mlinalg\u001b[39m.\u001b[39mnorm(y_proj, axis\u001b[39m=\u001b[39m\u001b[39m1\u001b[39m), label\u001b[39m=\u001b[39m\u001b[39mf\u001b[39m\u001b[39m'\u001b[39m\u001b[39mproject \u001b[39m\u001b[39m{\u001b[39;00mindex[i]\u001b[39m}\u001b[39;00m\u001b[39m'\u001b[39m)\n\u001b[1;32m     <a href='vscode-notebook-cell:/home/s1634937/Documents/Project%202/PhD-project2/Master/test.ipynb#ch0000008?line=17'>18</a>\u001b[0m     \u001b[39mwith\u001b[39;00m \u001b[39mopen\u001b[39m(\u001b[39mf\u001b[39m\u001b[39m'\u001b[39m\u001b[39m/home/s1634937/Documents/Project 2/PhD-project2/Master/Data/master_data_\u001b[39m\u001b[39m{\u001b[39;00mindex[i]\u001b[39m}\u001b[39;00m\u001b[39m_interpolate\u001b[39m\u001b[39m'\u001b[39m, \u001b[39m'\u001b[39m\u001b[39mrb\u001b[39m\u001b[39m'\u001b[39m) \u001b[39mas\u001b[39;00m file:\n",
      "\u001b[0;31mEOFError\u001b[0m: Ran out of input"
     ]
    },
    {
     "data": {
      "image/png": "[encoded data removed]",
      "text/plain": [
       "<Figure size 720x360 with 2 Axes>"
      ]
     },
     "metadata": {
      "needs_background": "light"
     },
     "output_type": "display_data"
    }
   ],
   "source": [
    "# testing data storage 2\n",
    "\n",
    "import pickle\n",
    "import numpy as np\n",
    "import matplotlib.pyplot as plt\n",
    "\n",
    "index = [2,4,8,16,32,64,128]\n",
    "\n",
    "fig, ax = plt.subplots(2, figsize=(10,5))\n",
    "\n",
    "for i in range(7):\n",
    "\n",
    "    with open(f'/home/s1634937/Documents/Project 2/PhD-project2/Master/Data/master_data_{index[i]}_project', 'rb') as file:\n",
    "        y_proj = pickle.load(file)\n",
    "\n",
    "    ax[0].plot(np.linalg.norm(y_proj, axis=1), label=f'project {index[i]}')\n",
    "\n",
    "    with open(f'/home/s1634937/Documents/Project 2/PhD-project2/Master/Data/master_data_{index[i]}_interpolate', 'rb') as file:\n",
    "        y_interp = pickle.load(file)\n",
    "\n",
    "    ax[1].plot(np.linalg.norm(y_proj, axis=1),label=f'interpolate {index[i]}')\n",
    "\n",
    "ax[0].legend()\n",
    "ax[1].legend()"
   ]
  },
  {
   "cell_type": "code",
   "execution_count": null,
   "metadata": {},
   "outputs": [],
   "source": []
  }
 ],
 "metadata": {
  "interpreter": {
   "hash": "84d21117991f40770aa76a54b8824414b706b1be52493deeaad53f83c62b413d"
  },
  "kernelspec": {
   "display_name": "Python 3.8.12 ('fenicsproject')",
   "language": "python",
   "name": "python3"
  },
  "language_info": {
   "codemirror_mode": {
    "name": "ipython",
    "version": 3
   },
   "file_extension": ".py",
   "mimetype": "text/x-python",
   "name": "python",
   "nbconvert_exporter": "python",
   "pygments_lexer": "ipython3",
   "version": "3.8.12"
  },
  "orig_nbformat": 4
 },
 "nbformat": 4,
 "nbformat_minor": 2
}
