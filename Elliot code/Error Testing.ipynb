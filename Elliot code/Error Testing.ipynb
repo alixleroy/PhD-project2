{
 "cells": [
  {
   "cell_type": "markdown",
   "metadata": {},
   "source": [
    "TESTING DIFFERENT METHODS OF COMPARING FUNCTIONS ON DIFFERENT MESHES"
   ]
  },
  {
   "cell_type": "code",
   "execution_count": 2,
   "metadata": {},
   "outputs": [
    {
     "name": "stdout",
     "output_type": "stream",
     "text": [
      "embedWindow(verbose=True): could not load ipyvtklink try:\n",
      "> pip install ipyvtklink\n"
     ]
    }
   ],
   "source": [
    "from fenics import *\n",
    "from dolfin import *\n",
    "import matplotlib.pyplot as plt\n",
    "import numpy as np\n",
    "from Solver import mesh_double_glazing\n",
    "# from fenicstools.Interpolation import interpolate_nonmatching_mesh\n",
    "from solver_alix import solver_para, solver_run"
   ]
  },
  {
   "cell_type": "code",
   "execution_count": 13,
   "metadata": {},
   "outputs": [
    {
     "name": "stdout",
     "output_type": "stream",
     "text": [
      "Solving linear variational problem.\n",
      "Solving linear variational problem.\n",
      "Solving linear variational problem.\n",
      "Solving linear variational problem.\n",
      "Solving linear variational problem.\n",
      "Solving linear variational problem.\n",
      "Solving linear variational problem.\n",
      "Solving linear variational problem.\n",
      "Solving linear variational problem.\n",
      "Solving linear variational problem.\n",
      "Solving linear variational problem.\n",
      "Solving linear variational problem.\n",
      "Solving linear variational problem.\n",
      "Solving linear variational problem.\n",
      "Solving linear variational problem.\n",
      "Solving linear variational problem.\n",
      "Solving linear variational problem.\n",
      "Solving linear variational problem.\n",
      "Solving linear variational problem.\n",
      "Solving linear variational problem.\n",
      "Solving linear variational problem.\n",
      "Solving linear variational problem.\n",
      "Solving linear variational problem.\n",
      "Solving linear variational problem.\n",
      "Solving linear variational problem.\n",
      "Solving linear variational problem.\n",
      "Solving linear variational problem.\n",
      "Solving linear variational problem.\n",
      "Solving linear variational problem.\n",
      "Solving linear variational problem.\n",
      "Solving linear variational problem.\n",
      "Solving linear variational problem.\n",
      "Solving linear variational problem.\n",
      "Solving linear variational problem.\n",
      "Solving linear variational problem.\n",
      "Solving linear variational problem.\n",
      "Solving linear variational problem.\n",
      "Solving linear variational problem.\n",
      "Solving linear variational problem.\n",
      "Solving linear variational problem.\n",
      "Solving linear variational problem.\n",
      "Solving linear variational problem.\n",
      "Solving linear variational problem.\n",
      "Solving linear variational problem.\n",
      "Solving linear variational problem.\n",
      "Solving linear variational problem.\n",
      "Solving linear variational problem.\n",
      "Solving linear variational problem.\n",
      "Solving linear variational problem.\n",
      "Solving linear variational problem.\n",
      "Solving linear variational problem.\n",
      "Solving linear variational problem.\n",
      "Solving linear variational problem.\n",
      "Solving linear variational problem.\n",
      "Solving linear variational problem.\n",
      "Solving linear variational problem.\n",
      "Solving linear variational problem.\n",
      "Solving linear variational problem.\n",
      "Solving linear variational problem.\n",
      "Solving linear variational problem.\n",
      "Solving linear variational problem.\n",
      "Solving linear variational problem.\n",
      "Solving linear variational problem.\n",
      "Solving linear variational problem.\n",
      "Solving linear variational problem.\n",
      "Solving linear variational problem.\n",
      "Solving linear variational problem.\n",
      "Solving linear variational problem.\n",
      "Solving linear variational problem.\n",
      "Solving linear variational problem.\n",
      "Solving linear variational problem.\n",
      "Solving linear variational problem.\n",
      "Solving linear variational problem.\n",
      "Solving linear variational problem.\n",
      "Solving linear variational problem.\n",
      "Solving linear variational problem.\n",
      "Solving linear variational problem.\n",
      "Solving linear variational problem.\n",
      "Solving linear variational problem.\n",
      "Solving linear variational problem.\n",
      "Solving linear variational problem.\n",
      "Solving linear variational problem.\n",
      "Solving linear variational problem.\n",
      "Solving linear variational problem.\n",
      "Solving linear variational problem.\n",
      "Solving linear variational problem.\n",
      "Solving linear variational problem.\n",
      "Solving linear variational problem.\n",
      "Solving linear variational problem.\n",
      "Solving linear variational problem.\n",
      "Solving linear variational problem.\n",
      "Solving linear variational problem.\n",
      "Solving linear variational problem.\n",
      "Solving linear variational problem.\n",
      "Solving linear variational problem.\n",
      "Solving linear variational problem.\n",
      "Solving linear variational problem.\n",
      "Solving linear variational problem.\n",
      "Solving linear variational problem.\n",
      "Solving linear variational problem.\n",
      "Solving linear variational problem.\n",
      "Solving linear variational problem.\n",
      "Solving linear variational problem.\n",
      "Solving linear variational problem.\n",
      "Solving linear variational problem.\n",
      "Solving linear variational problem.\n",
      "Solving linear variational problem.\n",
      "Solving linear variational problem.\n",
      "Solving linear variational problem.\n",
      "Solving linear variational problem.\n",
      "Solving linear variational problem.\n",
      "Solving linear variational problem.\n",
      "Solving linear variational problem.\n",
      "Solving linear variational problem.\n",
      "Solving linear variational problem.\n",
      "Solving linear variational problem.\n",
      "Solving linear variational problem.\n",
      "Solving linear variational problem.\n",
      "Solving linear variational problem.\n",
      "Solving linear variational problem.\n",
      "Solving linear variational problem.\n",
      "Solving linear variational problem.\n",
      "Solving linear variational problem.\n",
      "Solving linear variational problem.\n",
      "Solving linear variational problem.\n",
      "Solving linear variational problem.\n",
      "Solving linear variational problem.\n",
      "Solving linear variational problem.\n",
      "Solving linear variational problem.\n",
      "Solving linear variational problem.\n",
      "Solving linear variational problem.\n",
      "Solving linear variational problem.\n",
      "Solving linear variational problem.\n",
      "Solving linear variational problem.\n",
      "Solving linear variational problem.\n",
      "Solving linear variational problem.\n",
      "Solving linear variational problem.\n",
      "Solving linear variational problem.\n",
      "Solving linear variational problem.\n",
      "Solving linear variational problem.\n",
      "Solving linear variational problem.\n",
      "Solving linear variational problem.\n",
      "Solving linear variational problem.\n",
      "Solving linear variational problem.\n",
      "Solving linear variational problem.\n",
      "Solving linear variational problem.\n",
      "Solving linear variational problem.\n",
      "Solving linear variational problem.\n",
      "Solving linear variational problem.\n",
      "Solving linear variational problem.\n",
      "Solving linear variational problem.\n",
      "Solving linear variational problem.\n",
      "Solving linear variational problem.\n",
      "Solving linear variational problem.\n",
      "Solving linear variational problem.\n",
      "Solving linear variational problem.\n",
      "Solving linear variational problem.\n",
      "Solving linear variational problem.\n",
      "Solving linear variational problem.\n",
      "Solving linear variational problem.\n",
      "Solving linear variational problem.\n",
      "Solving linear variational problem.\n",
      "Solving linear variational problem.\n",
      "Solving linear variational problem.\n",
      "Solving linear variational problem.\n",
      "Solving linear variational problem.\n",
      "Solving linear variational problem.\n",
      "Solving linear variational problem.\n",
      "Solving linear variational problem.\n",
      "Solving linear variational problem.\n",
      "Solving linear variational problem.\n",
      "Solving linear variational problem.\n",
      "Solving linear variational problem.\n",
      "Solving linear variational problem.\n",
      "Solving linear variational problem.\n",
      "Solving linear variational problem.\n",
      "Solving linear variational problem.\n",
      "Solving linear variational problem.\n",
      "Solving linear variational problem.\n",
      "Solving linear variational problem.\n",
      "Solving linear variational problem.\n",
      "Solving linear variational problem.\n",
      "Solving linear variational problem.\n",
      "Solving linear variational problem.\n",
      "Solving linear variational problem.\n",
      "Solving linear variational problem.\n",
      "Solving linear variational problem.\n",
      "Solving linear variational problem.\n",
      "Solving linear variational problem.\n",
      "Solving linear variational problem.\n",
      "Solving linear variational problem.\n",
      "Solving linear variational problem.\n",
      "Solving linear variational problem.\n",
      "Solving linear variational problem.\n",
      "Solving linear variational problem.\n",
      "Solving linear variational problem.\n",
      "Solving linear variational problem.\n",
      "Solving linear variational problem.\n",
      "Solving linear variational problem.\n",
      "Solving linear variational problem.\n",
      "(100, 121)\n",
      "(100, 441)\n",
      "<class 'numpy.ndarray'>\n"
     ]
    }
   ],
   "source": [
    "alpha_star = 0\n",
    "alpha0 = 1\n",
    "iterations = 1000\n",
    "\n",
    "tau = 1/10\n",
    "epsilon = 1/20\n",
    "num_steps = 100\n",
    "T=5.\n",
    "k = 1\n",
    "\n",
    "nx_1 = 10\n",
    "ny_1 = 10\n",
    "nx_2 = 20\n",
    "ny_2 = 20\n",
    "\n",
    "var_noise = 1\n",
    "\n",
    "mesh_1 = RectangleMesh(Point(-1, -1), Point(1, 1), nx_1, ny_1)\n",
    "V_1 = FunctionSpace(mesh_1, \"P\", k)\n",
    "mesh_2 = RectangleMesh(Point(-1, -1), Point(1, 1), nx_2, ny_2)\n",
    "V_2 = FunctionSpace(mesh_2, \"P\", k)\n",
    "\n",
    "u_1  = mesh_double_glazing(tau, epsilon, num_steps, T, mesh_1, V_1, alpha_star)\n",
    "u_2  = mesh_double_glazing(tau, epsilon, num_steps, T, mesh_2, V_2, alpha_star)\n",
    "\n",
    "print(np.shape(u_1))\n",
    "print(np.shape(u_2))\n",
    "\n",
    "print(type(u_2))\n",
    "\n",
    "\n"
   ]
  },
  {
   "cell_type": "code",
   "execution_count": 14,
   "metadata": {},
   "outputs": [
    {
     "ename": "AttributeError",
     "evalue": "'numpy.ndarray' object has no attribute '_cpp_object'",
     "output_type": "error",
     "traceback": [
      "\u001b[0;31m---------------------------------------------------------------------------\u001b[0m",
      "\u001b[0;31mAttributeError\u001b[0m                            Traceback (most recent call last)",
      "Input \u001b[0;32mIn [14]\u001b[0m, in \u001b[0;36m<module>\u001b[0;34m\u001b[0m\n\u001b[0;32m----> 1\u001b[0m \u001b[43minterpolate\u001b[49m\u001b[43m(\u001b[49m\u001b[43mu_2\u001b[49m\u001b[43m[\u001b[49m\u001b[38;5;241;43m0\u001b[39;49m\u001b[43m]\u001b[49m\u001b[43m,\u001b[49m\u001b[43mV_1\u001b[49m\u001b[43m)\u001b[49m\n",
      "File \u001b[0;32m~/anaconda3/envs/fenicsproject/lib/python3.8/site-packages/dolfin/fem/interpolation.py:73\u001b[0m, in \u001b[0;36minterpolate\u001b[0;34m(v, V)\u001b[0m\n\u001b[1;32m     71\u001b[0m     Pv\u001b[38;5;241m.\u001b[39minterpolate(v\u001b[38;5;241m.\u001b[39m_cpp_object)\n\u001b[1;32m     72\u001b[0m \u001b[38;5;28;01melse\u001b[39;00m:\n\u001b[0;32m---> 73\u001b[0m     \u001b[43mPv\u001b[49m\u001b[38;5;241;43m.\u001b[39;49m\u001b[43minterpolate\u001b[49m\u001b[43m(\u001b[49m\u001b[43mv\u001b[49m\u001b[43m)\u001b[49m\n\u001b[1;32m     75\u001b[0m \u001b[38;5;28;01mreturn\u001b[39;00m Pv\n",
      "File \u001b[0;32m~/anaconda3/envs/fenicsproject/lib/python3.8/site-packages/dolfin/function/function.py:365\u001b[0m, in \u001b[0;36mFunction.interpolate\u001b[0;34m(self, u)\u001b[0m\n\u001b[1;32m    363\u001b[0m     \u001b[38;5;28mself\u001b[39m\u001b[38;5;241m.\u001b[39m_cpp_object\u001b[38;5;241m.\u001b[39minterpolate(u\u001b[38;5;241m.\u001b[39m_cpp_object)\n\u001b[1;32m    364\u001b[0m \u001b[38;5;28;01melse\u001b[39;00m:\n\u001b[0;32m--> 365\u001b[0m     \u001b[38;5;28;43mself\u001b[39;49m\u001b[38;5;241;43m.\u001b[39;49m\u001b[43m_cpp_object\u001b[49m\u001b[38;5;241;43m.\u001b[39;49m\u001b[43minterpolate\u001b[49m\u001b[43m(\u001b[49m\u001b[43mu\u001b[49m\u001b[43m)\u001b[49m\n",
      "\u001b[0;31mAttributeError\u001b[0m: 'numpy.ndarray' object has no attribute '_cpp_object'"
     ]
    }
   ],
   "source": [
    "interpolate(u_2[0],V_1)"
   ]
  },
  {
   "cell_type": "code",
   "execution_count": 1,
   "metadata": {},
   "outputs": [
    {
     "ename": "NameError",
     "evalue": "name 'RectangleMesh' is not defined",
     "output_type": "error",
     "traceback": [
      "\u001b[0;31m---------------------------------------------------------------------------\u001b[0m",
      "\u001b[0;31mNameError\u001b[0m                                 Traceback (most recent call last)",
      "Input \u001b[0;32mIn [1]\u001b[0m, in \u001b[0;36m<module>\u001b[0;34m\u001b[0m\n\u001b[0;32m----> 1\u001b[0m mesh_1 \u001b[38;5;241m=\u001b[39m \u001b[43mRectangleMesh\u001b[49m(Point(\u001b[38;5;241m-\u001b[39m\u001b[38;5;241m1\u001b[39m, \u001b[38;5;241m-\u001b[39m\u001b[38;5;241m1\u001b[39m), Point(\u001b[38;5;241m1\u001b[39m, \u001b[38;5;241m1\u001b[39m), nx_1, ny_1)\n\u001b[1;32m      2\u001b[0m mesh_2 \u001b[38;5;241m=\u001b[39m RectangleMesh(Point(\u001b[38;5;241m-\u001b[39m\u001b[38;5;241m1\u001b[39m, \u001b[38;5;241m-\u001b[39m\u001b[38;5;241m1\u001b[39m), Point(\u001b[38;5;241m1\u001b[39m, \u001b[38;5;241m1\u001b[39m), nx_2, ny_2)\n\u001b[1;32m      3\u001b[0m V_1 \u001b[38;5;241m=\u001b[39m FunctionSpace(mesh_1, \u001b[38;5;124m\"\u001b[39m\u001b[38;5;124mP\u001b[39m\u001b[38;5;124m\"\u001b[39m, k)\n",
      "\u001b[0;31mNameError\u001b[0m: name 'RectangleMesh' is not defined"
     ]
    }
   ],
   "source": [
    "mesh_1 = RectangleMesh(Point(-1, -1), Point(1, 1), nx_1, ny_1)\n",
    "mesh_2 = RectangleMesh(Point(-1, -1), Point(1, 1), nx_2, ny_2)\n",
    "V_1 = FunctionSpace(mesh_1, \"P\", k)\n",
    "V_2 = FunctionSpace(mesh_2, \"P\", k)\n",
    "u_1 = Function(V1)\n",
    "\n",
    "u2 = project()\n",
    "errornorm(u1, u2, 'l2')\n",
    "\n",
    "# u_1  = mesh_double_glazing(tau, epsilon, num_steps, T, mesh_1, V_1, alpha_star)\n",
    "# u_2  = mesh_double_glazing(tau, epsilon, num_steps, T, mesh_2, V_2, alpha_star)"
   ]
  },
  {
   "cell_type": "code",
   "execution_count": 6,
   "metadata": {},
   "outputs": [
    {
     "data": {
      "text/plain": [
       "(array([  4.,  19.,  33.,  85., 112., 150., 122., 148.,  99.,  97.,  54.,\n",
       "         26.,  13.,   4.,   2.,   2.,   9.,   3.,  15.,   4.]),\n",
       " array([-0.86314244, -0.76998532, -0.6768282 , -0.58367107, -0.49051395,\n",
       "        -0.39735683, -0.30419971, -0.21104259, -0.11788546, -0.02472834,\n",
       "         0.06842878,  0.1615859 ,  0.25474302,  0.34790015,  0.44105727,\n",
       "         0.53421439,  0.62737151,  0.72052863,  0.81368576,  0.90684288,\n",
       "         1.        ]),\n",
       " <BarContainer object of 20 artists>)"
      ]
     },
     "execution_count": 6,
     "metadata": {},
     "output_type": "execute_result"
    },
    {
     "data": {
      "image/png": "[encoded data removed]",
      "text/plain": [
       "<Figure size 432x288 with 1 Axes>"
      ]
     },
     "metadata": {
      "needs_background": "light"
     },
     "output_type": "display_data"
    }
   ],
   "source": [
    "list = [1, 1, 1, 1, 0.8721128206161161, 0.8721128206161161, 0.8721128206161161, 0.8721128206161161, 0.8721128206161161, 0.8590371256977086, 0.8590371256977086, 0.8259643327301858, 0.8259643327301858, 0.8259643327301858, 0.8259643327301858, 0.8818752358805624, 0.8818752358805624, 0.8818752358805624, 0.6837527461774426, 0.6837527461774426, 0.7019840457639634, 0.7019840457639634, 0.7154257552281056, 0.7154257552281056, 0.7154257552281056, 0.7154257552281056, 0.7154257552281056, 0.8429916513766862, 0.7813022689686502, 0.7813022689686502, 0.7233457521363151, 0.5502134522403267, 0.5502134522403267, 0.4179115516543478, 0.4179115516543478, 0.27905590880671105, 0.27905590880671105, 0.24598777116789589, 0.24598777116789589, 0.24598777116789589, 0.13738243566794656, 0.13738243566794656, 0.0873799108420387, 0.0873799108420387, 0.0873799108420387, 0.01927471232143814, 0.01927471232143814, 0.01927471232143814, 0.00939364845504926, 0.001537968001245081, 0.001537968001245081, 0.001537968001245081, 0.03401239425460381, 0.03401239425460381, 0.02787064292751737, 0.02787064292751737, -0.23495767822291672, -0.23495767822291672, -0.23495767822291672, -0.2653601490412487, -0.16954816207889017, -0.2769313722261991, -0.32370670765635534, -0.32370670765635534, -0.260974235463872, -0.16168876841000973, -0.21364425219845107, -0.18773290913489557, -0.07591138571862024, -0.11695810633819305, -0.11695810633819305, -0.11695810633819305, -0.18149630384432217, -0.18149630384432217, -0.18149630384432217, -0.2992948711892608, -0.2992948711892608, -0.2992948711892608, -0.23017756910643394, -0.1092891187844579, -0.07028505180157202, -0.027859366436572178, -0.06490017168999568, -0.06490017168999568, -0.10741077470171409, -0.10741077470171409, -0.10741077470171409, -0.1395432631506155, -0.14375121234443855, -0.3457728380833476, -0.3457728380833476, -0.3457728380833476, -0.37082715334167105, -0.37082715334167105, -0.2594057332866936, -0.26354950503808744, -0.2574047227278114, -0.40488937047667406, -0.32403625607191033, -0.1834750076287224, -0.10180886648022278, -0.046550546691507544, -0.0064953649075050746, 0.08261841610078811, 0.13657031322471552, 0.30916716148411966, 0.18166213090383374, 0.18166213090383374, 0.18166213090383374, 0.18166213090383374, 0.2630429261920616, 0.2630429261920616, 0.2757029888055448, 0.1929687523887778, 0.1929687523887778, 0.052724707149980926, 0.026250198548828083, 0.026250198548828083, -0.07981805519908186, -0.07981805519908186, -0.20711284993665982, -0.1921180190707209, -0.22127155167430276, -0.32259471075974855, -0.32259471075974855, -0.32259471075974855, -0.32259471075974855, -0.3315254223488644, -0.3903872207377842, -0.3903872207377842, -0.3903872207377842, -0.3903872207377842, -0.3304075142213441, -0.27468677222413895, -0.21365838124301834, -0.22025858422350672, -0.20255720100061975, -0.0725307631657611, -0.17110515170065402, -0.17110515170065402, -0.1945607398859403, -0.3598118693852078, -0.3598118693852078, -0.3598118693852078, -0.3598118693852078, -0.39377671924492064, -0.4400918015006152, -0.2836295908855224, -0.1752963008913802, -0.04206999212531909, 0.13464716323583234, 0.017376064000552388, 0.017376064000552388, -0.1122116130191704, -0.1122116130191704, -0.14872206078800987, -0.14872206078800987, -0.13136575461576025, -0.06764889101117826, -0.16767313975359066, -0.16767313975359066, -0.30127085758930705, -0.30127085758930705, -0.17101750082549916, -0.286202313582551, -0.286202313582551, -0.31900478176788466, -0.31900478176788466, -0.31900478176788466, -0.1346330929330383, -0.11404810573618376, -0.14110413306590214, -0.28203172084254735, -0.28203172084254735, -0.1379692314903204, -0.13007226382323808, -0.1688026760474711, -0.1688026760474711, -0.18552228860614767, -0.18552228860614767, -0.18552228860614767, -0.3372476465101033, -0.3372476465101033, -0.3372476465101033, -0.4110731576503494, -0.5373431681772274, -0.5373431681772274, -0.5095132101058685, -0.5554974293059526, -0.5554974293059526, -0.5171585399371234, -0.5360563228572148, -0.5181492337975503, -0.5446900373852088, -0.5446900373852088, -0.5446900373852088, -0.450333359280878, -0.5379752015345597, -0.5379752015345597, -0.5379752015345597, -0.5358751326938966, -0.5034269657997399, -0.5875393537134175, -0.5070333976950885, -0.4612348042722819, -0.5413367916815754, -0.5491211128590743, -0.5491211128590743, -0.38807509343406676, -0.3877214551340783, -0.26172998211689813, -0.21544609417021038, -0.43908712947576745, -0.43908712947576745, -0.43908712947576745, -0.4164920739773282, -0.32474479709076126, -0.1987631429573561, -0.19787009704145106, -0.137367699293282, -0.30873671289415683, -0.30873671289415683, -0.30873671289415683, -0.36688946530594346, -0.36688946530594346, -0.372502746436655, -0.372502746436655, -0.372502746436655, -0.41212719489661, -0.41212719489661, -0.41212719489661, -0.41212719489661, -0.4505736012299884, -0.4813525958587623, -0.4779899792657502, -0.4779899792657502, -0.4779899792657502, -0.40071584027878887, -0.4649339362765567, -0.5634900022783521, -0.5634900022783521, -0.5634900022783521, -0.5862967932847895, -0.6036376162770395, -0.5337778429341946, -0.3749048069980747, -0.36344558931940224, -0.29502722698368744, -0.1119760926021417, -0.1877880724081255, -0.1877880724081255, -0.1877880724081255, -0.1877880724081255, -0.37812204159302454, -0.37812204159302454, -0.3720437624582367, -0.3720437624582367, -0.5457424438612966, -0.5457424438612966, -0.46830122269271696, -0.45701188898998535, -0.44334809481018334, -0.44334809481018334, -0.44334809481018334, -0.5382033055827097, -0.39824467691954235, -0.448435904429433, -0.3723329661879905, -0.411580894097481, -0.29459045552170987, -0.23342703467457862, -0.31686376181428255, -0.31686376181428255, -0.31686376181428255, -0.31686376181428255, -0.20132963301087015, -0.03547062251119412, -0.2791192600183289, -0.2791192600183289, -0.2791192600183289, -0.31028079447875917, -0.31596324281035615, -0.31596324281035615, -0.2722281182185607, -0.2200275587230827, -0.11988979963460873, -0.24424208586891138, -0.24424208586891138, -0.24424208586891138, -0.2242147111919362, -0.3423875596451581, -0.3423875596451581, -0.20036345948304174, -0.0017205984890934223, -0.13998534482688865, -0.13998534482688865, -0.16280080001414315, -0.111199515006457, -0.20243840179577674, -0.20243840179577674, -0.051912165899555024, -0.020846980396140163, -0.013953752704495514, -0.0029139956070137335, -0.0029139956070137335, -0.0687566891706368, -0.0687566891706368, -0.07001161843855044, -0.07001161843855044, -0.07380195232553559, -0.0574103054549819, -0.012699332603092084, 0.07109143050554644, 0.08499150597214054, 0.08971272141196682, 0.1299593424634213, 0.11973511375162195, 0.11601344820814996, 0.11601344820814996, 0.09622317215929774, 0.05011950119736151, -0.014947998055636583, -0.12133007067916016, -0.12133007067916016, -0.12133007067916016, -0.1714138112366358, -0.10844167976402917, -0.10844167976402917, -0.01989470651264473, -0.01989470651264473, -0.0021820994423090018, -0.0021820994423090018, -0.3208795142804142, -0.3208795142804142, -0.3208795142804142, -0.42151305998197147, -0.42151305998197147, -0.42151305998197147, -0.28003868306375435, -0.3838302023331175, -0.3838302023331175, -0.3838302023331175, -0.326647162595852, -0.35644446341530156, -0.4249823523903983, -0.4249823523903983, -0.29329537044799525, -0.18098778111332986, -0.1576292888725339, -0.15432733629670164, -0.32032492164468385, -0.32032492164468385, -0.32032492164468385, -0.32032492164468385, -0.27046938157692424, -0.22870063836878243, -0.1605096784105236, -0.4664773715914303, -0.4664773715914303, -0.4664773715914303, -0.4315435710789581, -0.5526398843620641, -0.5526398843620641, -0.5526398843620641, -0.474521194179139, -0.3453021807398641, -0.4985691529484858, -0.4985691529484858, -0.48026757943301224, -0.48026757943301224, -0.4549007126234019, -0.32766816971879553, -0.35863353852725116, -0.32752702489546426, -0.32752702489546426, -0.32752702489546426, -0.21808897806075234, -0.35463157910142035, -0.35463157910142035, -0.35463157910142035, -0.35463157910142035, -0.4187868986080291, -0.34373993631327365, -0.4606262634780311, -0.4606262634780311, -0.4606262634780311, -0.6726944220941651, -0.6726944220941651, -0.6726944220941651, -0.6726944220941651, -0.5168118801612689, -0.488001143477289, -0.5568484337518326, -0.5568484337518326, -0.5568484337518326, -0.6202509901987764, -0.6202509901987764, -0.5204786584265968, -0.5131926488334521, -0.5722231261105651, -0.5722231261105651, -0.5722231261105651, -0.47848480595209286, -0.514280406066397, -0.6200317861390325, -0.6200317861390325, -0.6200317861390325, -0.6341545540050405, -0.6601625736422474, -0.6601625736422474, -0.5450761152944352, -0.3790823926215875, -0.4227475670226561, -0.3421827783123632, -0.3157316925905627, -0.2090864753867029, -0.2483292608199774, -0.43378487205558947, -0.43378487205558947, -0.43378487205558947, -0.5003663871739766, -0.46801789823265083, -0.4773976890556049, -0.4097355999538048, -0.25507895279226667, -0.24169186990392671, -0.29448369650008643, -0.13995959637869382, -0.16412330426663368, -0.16412330426663368, -0.18308394847497667, -0.18308394847497667, -0.06130476833476012, -0.038542925870227424, 0.037808987621939266, -0.22778985129061033, -0.22778985129061033, -0.16960487996106696, -0.03289469609320092, -0.08910428322831475, -0.08910428322831475, -0.015154152319387285, -0.015154152319387285, 0.05171074997418508, 0.13810653499938103, 0.14717267554207578, 0.14717267554207578, 0.23433837537550395, 0.28223850206516843, 0.10036762473130087, 0.10036762473130087, 0.06587156453961276, 0.06587156453961276, 0.1869505410683815, 0.1869505410683815, 0.1030711664060098, 0.1030711664060098, 0.1030711664060098, 0.12183073973020345, 0.07007477828484618, 0.20686508389427588, -0.02444669244687342, -0.02444669244687342, -0.05657360870540356, -0.05657360870540356, 0.009371549005314055, -0.06102837565611149, -0.06102837565611149, -0.1352739429492072, -0.1352739429492072, -0.1352739429492072, -0.16569273575942406, 0.011558090587731329, 0.04488876889701337, 0.04488876889701337, 0.2347986178141426, 0.10240703651939803, 0.10240703651939803, 0.10240703651939803, 0.10052118659183389, 0.037579007309771525, 0.037579007309771525, 0.08775208064761263, 0.08775208064761263, 0.06652759800024499, 0.03158575357112376, -0.08529770790029109, -0.08529770790029109, -0.15403860517893458, -0.15403860517893458, -0.15403860517893458, -0.07691576340913506, -0.15600752491172082, -0.15600752491172082, -0.15600752491172082, -0.20160638883916693, -0.20160638883916693, -0.16337475456051564, -0.16337475456051564, -0.15867185489846117, -0.15867185489846117, -0.15867185489846117, -0.15867185489846117, -0.2965969360075311, -0.4372742407045484, -0.4372742407045484, -0.4372742407045484, -0.44983990420077435, -0.527276084704605, -0.4290790856812593, -0.4035852051295624, -0.5094939562755276, -0.5094939562755276, -0.5094939562755276, -0.5094939562755276, -0.5079293094658041, -0.3913847698418939, -0.4072371072208173, -0.4070980722997003, -0.3747322142365107, -0.2987113501947298, -0.28331289621340355, -0.340167373559885, -0.340167373559885, -0.340167373559885, -0.340167373559885, -0.340167373559885, -0.3560853650106916, -0.3121351236744355, -0.29860255686878684, -0.37940958682673487, -0.37940958682673487, -0.46935624584583335, -0.46935624584583335, -0.41317057883998376, -0.41317057883998376, -0.41317057883998376, -0.40471996055568266, -0.4438566756036084, -0.4438566756036084, -0.4438566756036084, -0.3496956037398448, -0.3109475827570981, -0.388888537736963, -0.388888537736963, -0.388888537736963, -0.5801674575317343, -0.5801674575317343, -0.5801674575317343, -0.5801674575317343, -0.4953172547624052, -0.29286942184885456, -0.17727965537548115, -0.1389233303201382, -0.09207636423033488, -0.1568846190513265, -0.1568846190513265, -0.1568846190513265, -0.1861788711384681, -0.1861788711384681, 0.06567709049431164, 0.022936971805966322, 0.022936971805966322, -0.04240452063356408, -0.04240452063356408, -0.04240452063356408, -0.20293572359444634, -0.20293572359444634, -0.22067053982311147, -0.02654351050264603, 0.14092539648563496, 0.1538465174720288, 0.1538465174720288, 0.04018963397880501, 0.04018963397880501, 0.04018963397880501, 0.08059648070087094, 0.17792824557755338, 0.22105347293571112, 0.10082684618835547, 0.10082684618835547, 0.031087537455749173, 0.031087537455749173, 0.031087537455749173, 0.04473370833658984, 0.04473370833658984, 0.00022647864860283334, 0.00022647864860283334, 0.00022647864860283334, 0.013096691658314301, 0.013096691658314301, -0.03997301121677973, -0.03997301121677973, -0.03997301121677973, -0.03997301121677973, -0.1627301182779848, -0.1627301182779848, -0.37360497723018027, -0.37360497723018027, -0.15953597846939496, -0.09262121193223113, -0.14284291689448989, -0.14284291689448989, -0.17024751200489935, -0.0797373775106067, -0.10833872774889966, -0.09918784636159247, -0.05611401424065059, -0.007147881123297943, -0.009556539987937712, -0.009556539987937712, -0.06061238337120909, -0.06061238337120909, -0.16837436022069377, -0.24978119313280928, -0.23457773059573936, -0.3092807275372766, -0.3092807275372766, -0.3092807275372766, -0.2952817510720801, -0.22629949697289242, -0.06628101909120082, -0.35753724188644553, -0.35753724188644553, -0.35753724188644553, -0.5310020732081326, -0.5310020732081326, -0.5310020732081326, -0.6296037375727513, -0.5860100948270839, -0.540760792375184, -0.5635624660252869, -0.5263163769863102, -0.4724954521944579, -0.45174061636729257, -0.46794483096818634, -0.4041766483813209, -0.2805751185446448, -0.18997349477282793, -0.274884229474334, -0.274884229474334, -0.19376826845998985, -0.4653568594784078, -0.4653568594784078, -0.565438910755028, -0.565438910755028, -0.565438910755028, -0.565438910755028, -0.6013259195919184, -0.6013259195919184, -0.6013259195919184, -0.7635054633341619, -0.7635054633341619, -0.6319750426925971, -0.6451412568704125, -0.7257484082015015, -0.7257484082015015, -0.7257484082015015, -0.7257484082015015, -0.5621703742973737, -0.8176742271870563, -0.8176742271870563, -0.7736003302473496, -0.863142439053075, -0.768865112361337, -0.6355175672495127, -0.6235538349235061, -0.7286955889619763, -0.7286955889619763, -0.49213661619061916, -0.45668854124701586, -0.3790586674791112, -0.4385118142302641, -0.4385118142302641, -0.4385118142302641, -0.251763542412477, -0.2552335779343519, -0.28361272038787594, -0.3165303182063819, -0.27848670158165967, -0.26056602110114574, -0.37825012889620246, -0.37825012889620246, -0.39836554014693465, -0.39836554014693465, -0.39836554014693465, -0.2604115998982349, -0.14640473395225756, -0.3336343072717553, -0.3336343072717553, -0.3336343072717553, -0.3336343072717553, -0.2591296492676891, -0.17923170077148498, -0.006608641223538325, 0.129705402482266, 0.11972334877988451, 0.11972334877988451, 0.3370936609177398, 0.3637441519481348, 0.19724859052393484, 0.19724859052393484, 0.1142312832025103, -0.030009248554633827, -0.030009248554633827, -0.030009248554633827, 0.027816928127879774, 0.027816928127879774, 0.027816928127879774, -0.08927386763559234, -0.08927386763559234, -0.08927386763559234, -0.15991054326597484, -0.15991054326597484, -0.15991054326597484, -0.4046090346163864, -0.4046090346163864, -0.4046090346163864, -0.3756686953530612, -0.4291612769917435, -0.40268743681874936, -0.40268743681874936, -0.40268743681874936, -0.38322855769423014, -0.3482223722180803, -0.316087132183676, -0.22686561199329627, -0.26651594620987257, -0.26651594620987257, -0.26651594620987257, -0.12167172543288154, -0.02278188406062598, -0.07942171665310557, -0.18339983751323605, -0.18339983751323605, -0.18339983751323605, -0.18339983751323605, -0.2996522498261192, -0.2996522498261192, -0.2996522498261192, -0.3423113072085093, -0.3423113072085093, -0.3423113072085093, -0.3945104388736481, -0.28830891965064953, -0.31153673859234715, -0.5066250534339403, -0.5066250534339403, -0.5066250534339403, -0.5066250534339403, -0.5066250534339403, -0.39983636926457633, -0.5997258448959762, -0.5276569545485419, -0.6849399391653929, -0.6849399391653929, -0.6849399391653929, -0.6849399391653929, -0.6849399391653929, -0.5380113174393006, -0.7208351591262848, -0.6231159327599415, -0.7390547015086008, -0.7390547015086008, -0.7655805466714403, -0.7655805466714403, -0.6631459458772748, -0.6631459458772748, -0.6631459458772748, -0.5644437937311961, -0.4339065092257831, -0.47311124209151456, -0.5896738325072652, -0.5896738325072652, -0.44487472167206754, -0.4075214230418597, -0.4915980022417157, -0.5317562085342461, -0.5317562085342461, -0.16749458685356844, -0.25384202931603905, -0.2524436782514789, -0.2524436782514789, -0.2524436782514789, -0.2032999588996461, -0.23568658416502833, -0.1741727787898686, -0.08949678127678401, -0.27893594995790383, -0.27893594995790383, -0.27893594995790383, -0.4905325211167354, -0.4905325211167354, -0.4905325211167354, -0.5617444558435252, -0.5617444558435252, -0.5617444558435252, -0.5864753180452769, -0.5916966568636652, -0.5615494422983354, -0.44089435151141537, -0.38905335446636374, -0.25555452585703053, -0.11307528645427714, -0.22736727076614305, -0.22736727076614305, -0.22736727076614305, -0.22736727076614305, -0.22736727076614305, -0.3295566219457109, -0.3295566219457109, -0.34388562990431903, -0.3297782848608497, -0.37709482862063115, -0.37709482862063115, -0.37709482862063115, -0.25624226424031626, -0.27579366318286525, -0.07130524729766008, -0.050480755669641414, -0.1503501343964666, -0.1503501343964666, -0.08631990070963698, -0.08631990070963698, -0.03611863605372134, -0.008814578792782295, -0.03587428135704185, 0.0006064672096080734, -0.02094042385738199, -0.02094042385738199, 0.10734818522120973, 0.124738224967501, 0.124738224967501, 0.3874560905125459, 0.24958274236908348, 0.24958274236908348, 0.22950612481081356, 0.22950612481081356, 0.03759819008068893, 0.03759819008068893, -0.03223742158460079, -0.03223742158460079, -0.03223742158460079, 0.060996171130033916, 0.05798468044999434, -0.04335856383708891, -0.07002051432280343, -0.40315502106192896, -0.40315502106192896, -0.40315502106192896, -0.4667934207625899, -0.4667934207625899, -0.35956546637146347, -0.38496613694406145, -0.4302632697357539, -0.3249695206907846, -0.42034239182923405, -0.33518333693966496, -0.17573590783545412, -0.05149010979029289, 0.02005786360899793, 0.0790452248100263, -0.05020419632671935, -0.05020419632671935, -0.05020419632671935, -0.11125015652483874, -0.11125015652483874, -0.14595292606106466, -0.14595292606106466, -0.15001511783244809, -0.15001511783244809, -0.15162892654349072, -0.38038080813399044, -0.38038080813399044, -0.38038080813399044, -0.4190172246057218, -0.2896505778226707, -0.3286619932930982, -0.3621481875780985, -0.3782680721184784, -0.3782680721184784, -0.29227851913635905, -0.23558666604526518, -0.29463680135783155, -0.25931254449749863, -0.19522695865934792, -0.18473219386815456, -0.2357420736135808, -0.24960609633162786, -0.24960609633162786, -0.24960609633162786, -0.13140975338089836, 0.07235393543459981, 0.058737713242831995, 0.1906914143878853, 0.10891663719930784, 0.026789370555258665, -0.04367779001186918, -0.13883739036398235, -0.13883739036398235, -0.13883739036398235, -0.10668651885208544, -0.1930349616564169, -0.1930349616564169, -0.14350205209987246, -0.11948562791745847, -0.3537810884200878, -0.3537810884200878, -0.3912364641001045, -0.3912364641001045, -0.2825393863203953, -0.3029507137797478, -0.28388120213882967, -0.3551109616204479, -0.3551109616204479, -0.3551109616204479, -0.22979746778075838, -0.27457419809227857, -0.1277276156434041, 0.039371323329527, 0.12047137300128728, 0.2184178656653323, 0.1317651381178856, 0.1317651381178856, 0.1317651381178856, -0.00685961811136826, -0.00685961811136826, -0.017102857496150717, -0.017102857496150717, -0.017102857496150717, -0.03854109325905121, -0.12474443586212264, -0.12474443586212264, -0.12474443586212264, -0.12474443586212264, -0.12275082972530628, -0.12275082972530628, -0.17825246469370673, -0.17825246469370673, -0.08277060391211409, -0.16764962549069812, -0.16764962549069812, -0.08004113543029029, -0.06463466671198828, 0.01386424187859514, 0.06383111033787314, 0.031555693783558623, -0.1274777105230945, -0.1274777105230945, -0.2421738197161138, -0.2421738197161138, -0.15617051879600896, -0.2482454648140419, -0.2482454648140419, -0.26136903488237856, -0.26136903488237856, -0.26136903488237856, -0.478705403099369, -0.478705403099369, -0.478705403099369, -0.3941937023025859, -0.281057903971043, -0.25080775286559165, -0.08106025106041903, -0.007676808568092955, -0.07384472456093534, -0.19509064580768434, -0.19509064580768434, -0.19509064580768434, -0.2603239754090426, -0.13698080443470767, -0.15313088866661437, -0.08492997505492166, 0.09435144448873349, 0.30870816996662837, 0.44604045107669754, 0.44604045107669754, 0.3255786307801796, 0.3255786307801796, 0.3255786307801796, 0.3443283783787447, 0.20113470822106444, 0.20113470822106444, 0.14399747019105794, 0.02507743482178433, 0.02507743482178433, 0.02668564567091692, 0.02668564567091692, 0.027768790229098426, 0.027768790229098426, 0.027768790229098426, -0.04659126606993444, -0.15928578413450686, -0.22676268881875228, -0.22676268881875228, -0.22537030520163157, -0.3035374717216677, -0.46451149247642254, -0.46451149247642254, -0.46451149247642254, -0.4133518496219105]\n",
    "plt.hist(list,20)"
   ]
  },
  {
   "cell_type": "code",
   "execution_count": 18,
   "metadata": {},
   "outputs": [
    {
     "data": {
      "text/plain": [
       "(array([ 1.,  0.,  0.,  0.,  0.,  0.,  2.,  0.,  3.,  1.,  1.,  1.,  2.,\n",
       "         6.,  3.,  5., 10., 11.,  8., 15.,  7., 18., 22., 19., 18., 28.,\n",
       "        25., 24., 31., 28., 27., 20., 28., 41., 29., 27., 29., 39., 33.,\n",
       "        31., 41., 27., 22., 27., 24., 20., 25., 21., 27., 25., 16., 14.,\n",
       "         9.,  5.,  7., 18.,  7.,  8.,  5.,  5.,  3.,  3.,  6.,  6.,  4.,\n",
       "         1.,  3.,  2.,  2.,  2.,  1.,  1.,  1.,  3.,  3.,  0.,  4.,  1.,\n",
       "         0.,  0.,  1.,  0.,  0.,  0.,  1.,  2.,  0.,  1.,  0.,  0.,  0.,\n",
       "         0.,  0.,  1.,  0.,  0.,  0.,  0.,  0.,  3.]),\n",
       " array([-0.56600082, -0.55021724, -0.53443366, -0.51865007, -0.50286649,\n",
       "        -0.48708291, -0.47129933, -0.45551574, -0.43973216, -0.42394858,\n",
       "        -0.408165  , -0.39238141, -0.37659783, -0.36081425, -0.34503066,\n",
       "        -0.32924708, -0.3134635 , -0.29767992, -0.28189633, -0.26611275,\n",
       "        -0.25032917, -0.23454558, -0.218762  , -0.20297842, -0.18719484,\n",
       "        -0.17141125, -0.15562767, -0.13984409, -0.1240605 , -0.10827692,\n",
       "        -0.09249334, -0.07670976, -0.06092617, -0.04514259, -0.02935901,\n",
       "        -0.01357542,  0.00220816,  0.01799174,  0.03377532,  0.04955891,\n",
       "         0.06534249,  0.08112607,  0.09690966,  0.11269324,  0.12847682,\n",
       "         0.1442604 ,  0.16004399,  0.17582757,  0.19161115,  0.20739474,\n",
       "         0.22317832,  0.2389619 ,  0.25474548,  0.27052907,  0.28631265,\n",
       "         0.30209623,  0.31787981,  0.3336634 ,  0.34944698,  0.36523056,\n",
       "         0.38101415,  0.39679773,  0.41258131,  0.42836489,  0.44414848,\n",
       "         0.45993206,  0.47571564,  0.49149923,  0.50728281,  0.52306639,\n",
       "         0.53884997,  0.55463356,  0.57041714,  0.58620072,  0.60198431,\n",
       "         0.61776789,  0.63355147,  0.64933505,  0.66511864,  0.68090222,\n",
       "         0.6966858 ,  0.71246939,  0.72825297,  0.74403655,  0.75982013,\n",
       "         0.77560372,  0.7913873 ,  0.80717088,  0.82295447,  0.83873805,\n",
       "         0.85452163,  0.87030521,  0.8860888 ,  0.90187238,  0.91765596,\n",
       "         0.93343955,  0.94922313,  0.96500671,  0.98079029,  0.99657388,\n",
       "         1.01235746]),\n",
       " <BarContainer object of 100 artists>)"
      ]
     },
     "execution_count": 18,
     "metadata": {},
     "output_type": "execute_result"
    },
    {
     "data": {
      "image/png": "[encoded data removed]",
      "text/plain": [
       "<Figure size 432x288 with 1 Axes>"
      ]
     },
     "metadata": {
      "needs_background": "light"
     },
     "output_type": "display_data"
    }
   ],
   "source": [
    "list = [1, 1, 1.0123574593364697, 0.9083394287813911, 0.7723520922501135, 0.7783354366974724, 0.7783354366974724, 0.811974773590122, 0.64771680222636, 0.64771680222636, 0.5556217454837634, 0.4978387128240641, 0.4978387128240641, 0.6079521799700394, 0.6079521799700394, 0.5238826753529874, 0.5238826753529874, 0.6547354718066033, 0.5954019104036745, 0.5954019104036745, 0.5777318413870999, 0.634113336137611, 0.634113336137611, 0.7012857092970138, 0.5427190067361132, 0.4731601784659728, 0.40255616376809866, 0.39778972233263926, 0.3515262224031734, 0.32346079278585327, 0.17306361625962094, 0.17306361625962094, 0.16181552849886027, 0.16181552849886027, 0.14945330381609562, 0.008782496300744264, -0.1330132336204784, -0.12251568601521481, -0.12251568601521481, 0.02631830249206152, 0.02535972930871558, 0.05829442963677857, 0.05829442963677857, 0.05829442963677857, -0.017538771152422625, -0.053382597052693354, 0.06575790652567548, 0.07958026738296987, 0.09555028595527798, 0.0066166773493982756, 0.0036400871533893257, -0.07950371814958372, -0.024920735449523584, 0.08172980317698633, -0.03048379510325079, 0.09823350089596751, 0.09823350089596751, 0.05043318272695408, 0.05043318272695408, -0.12938231239861042, -0.08819749961847366, -0.041775148261031195, -0.041775148261031195, -0.18929562747051826, -0.18929562747051826, -0.16347109127007547, -0.12074098143914007, -0.085705842297231, -0.006668723532566367, -0.006668723532566367, -0.04246172990035055, -0.08873534137061109, 0.07271895058193792, 0.07271895058193792, -0.02582502611678257, -0.04461448387304921, -0.04461448387304921, -0.08801120660539846, -0.05838419377245412, -0.09275302910689293, 0.07739897555100239, 0.05547072106964451, 0.018509649372171456, 0.07029967516575691, 0.1411560893176934, 0.14110262607153895, 0.13941147748324548, 0.25824939218342047, 0.19356113736080008, 0.11764329838563385, 0.11764329838563385, -0.029401444282305553, 0.04540558504507404, 0.024165742293100822, -0.0991966251896929, -0.016670707905454385, 0.07812195476153871, 0.09078749522728477, 0.07323768797264446, 0.06461176162790061, 0.061763959323789655, 0.061763959323789655, -0.022804642055273425, -0.11339079466302483, -0.11339079466302483, -0.20803939232758506, -0.20803939232758506, -0.17068461318440156, -0.10369480624235158, -0.041707554596482545, -0.15961455849649195, -0.14601844076440781, -0.14601844076440781, -0.17717145737096993, -0.25543955748151537, -0.2818246235994962, -0.09978529368242173, -0.029667332984832817, -0.058736504483714515, -0.18569449488267398, -0.12434140919016198, -0.12434140919016198, -0.2730297981843052, -0.35832062075390547, -0.2759202754029342, -0.2979183552879691, -0.22773990923310816, -0.22773990923310816, -0.21099411610515761, -0.21099411610515761, -0.017218803190682613, 0.09317097958421876, 0.03394644568906225, 0.03394644568906225, 0.07590184757940113, 0.0603538197255492, 0.019975147238360746, 0.07567839704240205, 0.017631965116569018, 0.03499400156612317, 0.0868677852171306, 0.11494312580596401, 0.22587152921750572, 0.18744297279080285, 0.16931759695384152, 0.2202930577225902, 0.24793115923098935, 0.24793115923098935, 0.19734258291942028, 0.156418990654349, 0.16953202816996216, 0.16953202816996216, 0.13630471396021301, 0.034445296249385, 0.04822697120692123, 0.12452793648533478, 0.20264636583138218, 0.20264636583138218, 0.3098530395378411, 0.3098530395378411, 0.31844573107134344, 0.31844573107134344, 0.3205094500489137, 0.2539420614808402, 0.1133425535779409, 0.1133425535779409, 0.08690347557013788, 0.08690347557013788, -0.01115661594940702, 0.1366774783347281, 0.1119988965203606, -0.15244146125474134, -0.17917696597340957, -0.02236164956158676, -0.02236164956158676, 0.024178333365791088, 0.04009591934861014, 0.0869787920878353, 0.0869787920878353, -0.11545906566248468, -0.11545906566248468, -0.1399714696779192, -0.25852657891783126, -0.25852657891783126, -0.3036014119466165, -0.3036014119466165, -0.32535595897546965, -0.1691698207415067, -0.20723628406698924, -0.24059918586266088, -0.3047441873161088, -0.1914975448309915, -0.1914975448309915, -0.2333870092469203, -0.2328937722174053, -0.2118731348242746, -0.1974245633220469, -0.22407029527596106, -0.21841088316683524, -0.21841088316683524, -0.14020531700942215, -0.1853908322964707, -0.07260966351545683, -0.13328561124325908, -0.13525065916895318, -0.13525065916895318, -0.21937079496006096, -0.21451021551334945, -0.21451021551334945, -0.0772787036774642, -0.12690375955358066, -0.12110987273160534, -0.15969366367787044, -0.15969366367787044, -0.09248919781829178, -0.05948847191262754, -0.02497329166789372, -0.06852089000220563, -0.11163591039232672, -0.14421596546987125, -0.06925133586331575, -0.06925133586331575, -0.14077576421526533, -0.14077576421526533, 0.026378118027716863, -0.09910455395806006, -0.09910455395806006, -0.015615033317193688, -0.1747679860704374, -0.09513993528214162, -0.13996485925001811, -0.039669159557883346, -0.05942578364566135, -0.23176373514159823, -0.1687533815473143, -0.1687533815473143, -0.16434668091014815, -0.14448317106043526, -0.15120627046780136, -0.15120627046780136, -0.08322247393351573, 0.03843915408932132, 0.030701768236027473, 0.008484393340210332, 0.045195402376690424, 0.1595252567007075, 0.07576712094135131, 0.13899100724397448, 0.13899100724397448, 0.13039910711319355, 0.13723843293651714, 0.051466857765602114, 0.051466857765602114, 0.15633191499781712, 0.07473592757915869, 0.1279654771938293, 0.08883076944187665, 0.08883076944187665, -0.056810950317858155, -0.05680904186261384, -0.10941017474799827, -0.13019595837748096, -0.17469343006598603, -0.14146131258853661, -0.2265208143152913, -0.14800899473223667, -0.03598468990246956, -0.03598468990246956, -0.12548913236680964, -0.18346991089874246, -0.34746431823130963, -0.4198092728410096, -0.1795594804274644, -0.11459809865674615, -0.09921411060821923, 0.12456730660932432, 0.12456730660932432, 0.08431871250186004, 0.08431871250186004, -0.14717144019784648, -0.10798025734540304, -0.15281896324771607, -0.135041562504512, -0.09144766207777102, 0.04529853169683998, 0.07932094027284264, 0.17675443577455588, 0.17675443577455588, 0.19459867840714704, 0.08941401411582064, 0.03431064655852437, 0.05956963723631458, 0.0910254332116779, 0.02156650806047236, 0.033052676004940496, -0.10245035321717136, 0.12070798582357983, -0.005814729548992897, -0.014865778198337143, 0.09080794156695973, 0.18914296919278425, 0.18914296919278425, 0.2717853395544767, 0.2016848421000791, 0.15686291422438295, 0.12986108841051433, 0.11730339592311334, 0.054331803331813325, 0.054331803331813325, 0.03293297524405734, 0.019254703782912528, -0.1006119733868189, -0.10835457600230321, -0.10835457600230321, -0.10835457600230321, -0.23079233833381424, -0.2060992509838351, -0.03092416521598909, 0.046860750163879514, -0.14575967008593455, -0.08318544484759537, -0.0735205559594568, -0.0249659471797241, 0.07784638037028899, 0.05532905971795364, 0.05532905971795364, -0.2622139407680404, -0.2159217527031874, -0.17399382286149337, -0.13594384235888257, -0.11077873782763185, -0.09421166050176508, -0.106226358518965, -0.10596472271540261, 0.05667922245862886, 0.1474962657765087, 0.08546855561443759, 0.0706168016591056, 0.07148003866582278, 0.05104076641789072, 0.02412075402483567, 0.02412075402483567, 0.04518951483260698, -0.061102301030841424, 0.036397197853474436, 0.10050201997301832, 0.20581880100611671, 0.1384770290218174, 0.1384770290218174, 0.174305543556802, 0.14009415286052268, 0.14009415286052268, 0.22216377732206172, 0.16694901821852445, 0.24260960742751675, 0.24260960742751675, 0.03984746514812704, 0.12449920830080369, 0.06882657191956645, 0.004130940868592559, 0.08782376881018783, 0.011580432694607373, -0.007997634017208634, -0.007997634017208634, -0.007997634017208634, 0.23677907702864537, 0.23910083698953727, 0.23910083698953727, 0.2102295817652333, 0.340464414046259, 0.340464414046259, 0.24483747687590424, 0.18813675891076675, 0.18813675891076675, 0.22654672855881774, 0.14856686097377003, 0.11516242488536976, 0.27168691134431244, 0.1399818727540939, 0.1436977635508306, 0.08055596031652855, 0.17487820981803134, 0.19726990098291955, 0.19726990098291955, 0.3118875316405266, 0.31597801494353545, 0.10696127512522594, 0.10696127512522594, 0.043993019472001, 0.026896792085761817, 0.06862125995938315, 0.06695577966752086, 0.23200962375342618, 0.23200962375342618, 0.22204637188192933, 0.1690806993265585, 0.1387379852524443, 0.04618238668644596, 0.22232906496369076, 0.309194931186518, 0.31494871145455416, 0.31494871145455416, 0.3769699561824188, 0.3769699561824188, 0.47732814837846776, 0.47732814837846776, 0.47732814837846776, 0.595410292569095, 0.6061445714864443, 0.5156733065064566, 0.5156733065064566, 0.44664236732516793, 0.44664236732516793, 0.45704644297676233, 0.45704644297676233, 0.4255647207888001, 0.4255647207888001, 0.30938947866804484, 0.12014210702485878, 0.12014210702485878, 0.12014210702485878, -0.11103116960582299, -0.11103116960582299, -0.18183360358710837, -0.16387984496566282, -0.16387984496566282, -0.08239530725514195, 0.0440737567795272, 0.0440737567795272, 0.062394953157024174, -0.0694728698273748, -0.09532863077308343, -0.09532863077308343, -0.12710234035687507, -0.09414803730504645, -0.10849599686090658, 0.1172387027785261, 0.1395950121568916, 0.19697298457506093, 0.2955116870332851, 0.21549410960957543, 0.21746341532608413, 0.21746341532608413, 0.17438641492457968, 0.16693680887705956, 0.16693680887705956, -0.0400916048714447, 0.059898000388071526, 0.053722890097210346, 0.231240575730416, 0.231240575730416, 0.20021966020968981, 0.1676312823525432, 0.2890950696052703, 0.2890950696052703, 0.31452524338187676, 0.31452524338187676, 0.3109484174294749, 0.3109484174294749, 0.3109484174294749, 0.18224120834797986, 0.18224120834797986, 0.31850338559679303, 0.21924930169733858, 0.21924930169733858, 0.25492608770461567, 0.24891279371146213, 0.3090693628005844, 0.3090693628005844, 0.3539676383581835, 0.3539676383581835, 0.4405069268778897, 0.4405069268778897, 0.28218288156508864, 0.23886059344159583, 0.2670527209211711, 0.1959504064088563, 0.02071273537196694, 0.2075641797755151, 0.2075641797755151, 0.2845182466466352, 0.20198345797918793, 0.20198345797918793, 0.31461938665585765, 0.31461938665585765, 0.4245265851739409, 0.4245265851739409, 0.44248687611094856, 0.43226988707237507, 0.43226988707237507, 0.418865015632007, 0.418865015632007, 0.41113864472989076, 0.39342321437574623, 0.4285700333787149, 0.34752035738615794, 0.34752035738615794, 0.3913516609207304, 0.3196111572809909, 0.09416398688742397, 0.07067986904387327, 0.07067986904387327, 0.10712075606185417, 0.06792117976053504, -0.06150135546331577, -0.047421237193014144, 0.11049239294454599, 0.11049239294454599, 0.07730788701355074, -0.015079652517482542, 0.18077420476164607, 0.11704440051023365, 0.19399840759793008, 0.2147302002628442, 0.11398835174633411, 0.19352044196469392, 0.19352044196469392, 0.15436291487625026, 0.26261768243631955, 0.16397183419845623, 0.16397183419845623, 0.18736303190701886, 0.18971857693699112, 0.18898920731796393, 0.22154551805678457, 0.19505766295984442, 0.126530027978006, 0.008301547906507237, -0.04761111930165853, -0.02693701070121498, -0.06690475760713852, 0.009620346001894, 0.009617133740937263, 0.10516044282356843, 0.10852955981228411, 0.221770487425111, 0.221770487425111, 0.21828391220539384, 0.21828391220539384, 0.29759732570647757, 0.1853132814454816, 0.17590170141723485, 0.21231020267137318, -0.003379040804145833, -0.053908788460952005, 0.03576663206035972, 0.03576663206035972, 0.03895927993427444, 0.1781736486486121, 0.06922453741407977, -0.003441650778423358, -0.11763173531755113, -0.11763173531755113, -0.11763173531755113, -0.20222473403785407, -0.1130042682128527, -0.1130042682128527, -0.12045362218360509, -0.12045362218360509, -0.030332478933308524, -0.1795311294439702, -0.24769350305187066, -0.24769350305187066, -0.3422940615577432, -0.4623955308053944, -0.4271825393787388, -0.4271825393787388, -0.566000823348816, -0.45775574711021055, -0.4011510690061247, -0.2526323484207105, -0.30060588282879425, -0.30060588282879425, -0.29651570212316014, -0.37240392232475117, -0.3223266663488976, -0.3481634086301123, -0.3481634086301123, -0.3360168606945039, -0.3360168606945039, -0.297646146239394, -0.1936805306982181, -0.1936805306982181, -0.03840625138354559, 0.007436924035238643, 0.0324423040181428, 0.03797327105768239, 0.1426903270556597, 0.1426903270556597, 0.24112098720005826, 0.19924441257050196, 0.2682380133545966, 0.1637303840594348, 0.22511134286166806, 0.22511134286166806, 0.06230997991647996, 0.16275319991472786, 0.15220406078671306, 0.15220736160938028, 0.1761273440838225, 0.23140602981402483, 0.03305307322504558, -0.03198799905694988, -0.03198799905694988, 0.027564434625814496, -0.09388786230246572, -0.025430025877337573, -0.025430025877337573, 0.11336131836418432, 0.06910093111486044, 0.06910093111486044, 0.023638156577072605, 0.2025574543601869, 0.3443251702223655, 0.35118100907180033, 0.35118100907180033, 0.34346642332322935, 0.34346642332322935, 0.3659354576173218, 0.3659354576173218, 0.3659354576173218, 0.3882569458554978, 0.3484065151275064, 0.2593277505040969, 0.2593277505040969, 0.3182168613850869, 0.21498097009908507, 0.21498097009908507, 0.1919503418603158, 0.07769753050953902, 0.01419654180928305, 0.021258942550616333, 0.021258942550616333, 0.028029500271413516, -0.19468044411400764, -0.20658576970959944, -0.20658576970959944, -0.06268891372049568, -0.04726406894951916, -0.05559174952671759, -0.0909735311454786, -0.0022937296043307603, 0.06564413894864696, 0.03639368310730456, -0.02594342713023423, -0.07056669011845755, -0.04435600811298651, -0.15966464868067798, -0.10865714535106312, -0.13066589893488484, -0.16589771476725038, -0.21955909994120798, -0.19290908046904512, -0.1116200983625791, -0.0428352937912755, -0.03845635991901742, -0.015819503649788305, -0.04291494364549191, -0.056077349040784236, 0.0574364025932744, -0.09116390797496221, -0.04620567718848557, 0.08924189353720577, 0.0017778761907898122, -0.015422987504714696, -0.07968661208392912, 0.09854427249955731, 0.09854427249955731, 0.19965079508707217, 0.19395283790921672, 0.14897172484583365, 0.14897172484583365, 0.0003540620371416392, 0.15148636512372166, 0.10009952355847862, 0.09772494073703278, -0.021959462963977022, 0.05386236772087431, 0.05386236772087431, 0.0779967264229184, 0.08286802886654197, 0.105490079839987, 0.13342392454398844, 0.013118720079523652, -0.03182278645182506, 0.015498144950455393, -0.0021613227166958106, -0.0021613227166958106, 0.044971693603379534, -0.05236127961022592, -0.04525036007454663, -0.04525036007454663, 0.10762881874238933, 0.1388038357696394, 0.03801133063784749, 0.03801133063784749, -0.06425268496415502, -0.15374498201066833, -0.21434194745482082, -0.30703341076685087, -0.3075031127684655, -0.25185173342513323, -0.2396732517591192, -0.29142682627901967, -0.29563341977735635, -0.3555307468137816, -0.17174208454363382, -0.121663273230081, -0.06107030900045214, -0.0687374413222543, 0.017879416876392593, 0.038414575913335317, 0.05230364013539237, 0.10179231144520104, 0.1536122386147296, 0.1536122386147296, 0.1536122386147296, 0.2121620183261245, 0.2121620183261245, 0.22487618214222274, 0.1832795751618316, 0.19924477441992944, 0.011114219552608412, 0.08625559265239048, 0.04496047641034351, 0.007065879794836631, -0.04017082913966433, -0.1918892775550113, -0.1918892775550113, -0.08926710470395924, 0.006119023800896517, 0.1693156178265269, 0.1693156178265269, 0.07119506077026946, -0.08790108630163504, 0.023987823768942734, -0.0521187997002988, -0.006284882379143299, 0.07688147299356343, -0.03319785002817659, -0.12654343211511643, -0.02748295119657522, 0.022445981626464967, 0.19174051044974053, 0.24090171152054146, 0.25410568342942386, 0.25410568342942386, 0.23672544908568885, 0.28701528227134177, 0.26754479687508986, 0.17272338253437447, 0.17272338253437447, -0.008672761972321669, -0.08266665763199454, -0.10991392194448857, -0.016299515108284104, -0.08450794346663892, -0.08450794346663892, -0.21193705229794077, -0.29667166969253367, -0.29667166969253367, -0.2585087469876929, -0.24078937974804174, -0.14608959489941709, -0.12672463286554642, -0.1667925849675422, -0.220183215502032, -0.220183215502032, -0.1672650847840968, -0.16377986983212278, -0.16377986983212278, -0.1324328628388583, -0.1371809375764489, -0.1371809375764489, -0.14535746367629013, -0.14535746367629013, -0.269983117106844, -0.269983117106844, -0.27211204533489236, -0.23241698664551672, -0.16080240755651642, -0.16781306542960425, -0.2170834032721657, -0.1026402420807917, -0.043930393441846, -0.06169281023192184, -0.006955581593761126, 0.06715915334632006, 0.15402541655905416, 0.09852157546653838, 0.12911775347840104, 0.21486349681992395, 0.21486349681992395, 0.28095362163545656, 0.23878854693849225, 0.23878854693849225, 0.29312992034668434, 0.2549732536820244, 0.11512109528273196, 0.007721904429291271, 0.019545780591538484, 0.019545780591538484, -0.05612119513360461, -0.09147354100452654, -0.1505743406040116, -0.04268308926623553, -0.12930047279000728, -0.10328929690011743, -0.15343134994034013, -0.051399650958070656, -0.16111084434123565, -0.17973399226019585, -0.1904794137058125, -0.1904794137058125, -0.2738542813958226, -0.2738542813958226, -0.22474488915526375, -0.3076136746881638, -0.25073388898226634, -0.36253943582287584, -0.3477554778860591, -0.3789948679720973, -0.2497055540968748, -0.2497055540968748, -0.2581757255425136, -0.2979333753629994, -0.2841059780346263, -0.2841059780346263, -0.3174998539498315, -0.4379417890718614, -0.3150941374458806, -0.20455022563574368, -0.16303681672229542, -0.16303681672229542, -0.2172377578145233, -0.26133681741270043, -0.22857028270505741, -0.32896024831862614, -0.16195325487203918, -0.159088482222603, -0.1359405340080974, -0.20038910034676305, -0.18036996295996172, -0.1808983511638393, -0.1808983511638393, -0.1808983511638393, -0.286346831501079, -0.286346831501079, -0.2567151104705514, -0.16177990729609198, -0.18899861334804527, -0.1612528841813028, -0.2576837073121683, -0.2594302575225123, -0.2860662204817394, -0.05587032587369062, 0.0006082526317373951, -0.02715121283056223, -0.22850659605338586, -0.150687991120029, -0.150687991120029, 0.03509258292166201, -0.027837013437764832, 0.047615634625536585, -0.059754150553592913, 0.05891379791678192, 0.12236364915622042, 0.08496213371569401, 0.08496213371569401, 0.012870077771270444, 0.012870077771270444, 0.012870077771270444, 0.03508439570007852, -0.008671139355785382, -0.008671139355785382, -0.10545318189671778, -0.03801769973301357, 0.002229129547190137, 0.024206274060644777, 0.024206274060644777, -0.014915499962292921, -0.03387201005425522, -0.03387201005425522, -0.03387201005425522, -0.03387201005425522, -0.041197803959540535, 0.028185952300679454, 0.08233695272348013, -0.05780611399121141, -0.04570327428703261, -0.09726699078722673, -0.09726699078722673, -0.2025791903309967, -0.04873881887572448, -0.03060571947615809, 0.12542380506288417, 0.058078292615745236, 0.058078292615745236, -0.0035918082793321288, 0.032716051645701585, -0.07904023810898432, 0.0002628457684782509, 0.06965989315299023, -0.017026670327115717, 0.11195233695246021, 0.12330571786787839, 0.02010237418524155, -0.02105576106912444, 0.030951897041984686, -0.00996582526653065, -0.018931258476653688, 0.013419074143839312, 0.013419074143839312, -0.003438363024754528, 0.1868332787449945, 0.11022577377391754, 0.02265903027367737, 0.02265903027367737, 0.14764147641012254, 0.14764147641012254, 0.0695404265496043, -0.18166730872495618, -0.10792492516611181, -0.04019037210162214, 0.006921051153463947, -0.09233061862744016, 0.04486830204873021, 0.07441583311758207, 0.135148807589172, 0.06759534973550634, 0.06759534973550634, 0.027565337474411325, -0.034885371001175766, -0.034885371001175766, -0.07570008911716668, -0.19411588005339048, -0.20522982315199945, -0.10537974253660136, -0.050994090066194916, 0.008031270467766485, 0.008031270467766485, -0.036848925674807756, -0.10924787837843736, -0.13260553997430707, -0.25782925584305433, -0.25989783455923693, -0.07404409858264299, -0.07404409858264299, -0.04508210308057245, 0.012942199518721949, -0.07960310217932784, -0.07960310217932784, 0.09204668900906623, 0.18740619075678464, 0.22913743712124648, 0.06624475959152651, 0.16788519520548909, 0.24275558878864045, 0.2882240392401251, 0.30593523572104087, 0.1955444742677217, 0.20340943735900596, 0.16539437360500395, 0.029569598053430873, -0.02591079395019355, -0.009308381446273016, -0.10949733849304885, -0.056381306010598875, -0.16719038919767548, -0.16719038919767548, -0.08160952395229824, 0.18360202799359876, 0.08759015406495169, -0.07183638752963872, -0.07183638752963872, 0.0754946943668518, 0.11281523374255478, 0.11281523374255478, 0.14850706781869952, 0.05386615658571223, -0.004176806779800264, -0.037879432916531945, 0.09758359951623427, 0.07469271842461722, -0.02979389737895871, -0.08605981362596507, -0.10661938445033056, -0.20620114435967596, -0.07907832203358514, -0.06008267292964321, 0.02061275454751592, 0.02061275454751592, -0.0014373960363855236, -0.13924363618641764, -0.13924363618641764, -0.107901784279355, -0.107901784279355, -0.22711580088872568, -0.22711580088872568, -0.20028583795634436, -0.21502001430673875]\n",
    "plt.hist(list, 100)"
   ]
  },
  {
   "cell_type": "markdown",
   "metadata": {},
   "source": []
  }
 ],
 "metadata": {
  "interpreter": {
   "hash": "84d21117991f40770aa76a54b8824414b706b1be52493deeaad53f83c62b413d"
  },
  "kernelspec": {
   "display_name": "Python 3.8.12 ('fenicsproject')",
   "language": "python",
   "name": "python3"
  },
  "language_info": {
   "codemirror_mode": {
    "name": "ipython",
    "version": 3
   },
   "file_extension": ".py",
   "mimetype": "text/x-python",
   "name": "python",
   "nbconvert_exporter": "python",
   "pygments_lexer": "ipython3",
   "version": "3.8.12"
  },
  "orig_nbformat": 4
 },
 "nbformat": 4,
 "nbformat_minor": 2
}
