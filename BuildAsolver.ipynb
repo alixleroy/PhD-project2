{
 "cells": [
  {
   "cell_type": "code",
   "execution_count": 6,
   "id": "811b21d5",
   "metadata": {},
   "outputs": [
    {
     "name": "stdout",
     "output_type": "stream",
     "text": [
      "Solving linear variational problem.\n",
      "Matplotlib is required to plot from Python.\n",
      "Solving linear variational problem.\n",
      "Matplotlib is required to plot from Python.\n",
      "Solving linear variational problem.\n",
      "Matplotlib is required to plot from Python.\n",
      "Solving linear variational problem.\n",
      "Matplotlib is required to plot from Python.\n",
      "Solving linear variational problem.\n",
      "Matplotlib is required to plot from Python.\n",
      "Solving linear variational problem.\n",
      "Matplotlib is required to plot from Python.\n",
      "Solving linear variational problem.\n",
      "Matplotlib is required to plot from Python.\n",
      "Solving linear variational problem.\n",
      "Matplotlib is required to plot from Python.\n",
      "Solving linear variational problem.\n",
      "Matplotlib is required to plot from Python.\n",
      "Solving linear variational problem.\n",
      "Matplotlib is required to plot from Python.\n"
     ]
    }
   ],
   "source": [
    "from fenics import *\n",
    "import numpy as np\n",
    "\n",
    "T = 2.0            # final time\n",
    "num_steps = 10     # number of time steps\n",
    "dt = T / num_steps # time step size\n",
    "\n",
    "\n",
    "# Create mesh and define function space\n",
    "nx = ny = 8\n",
    "mesh = UnitSquareMesh(nx, ny)\n",
    "V = FunctionSpace(mesh, 'P', 1)\n",
    "\n",
    "# Define boundary condition\n",
    "u_D = Expression('x[0]==1 ? 1:0',degree=1)\n",
    "\n",
    "def boundary(x, on_boundary):\n",
    "    return on_boundary\n",
    "\n",
    "bc = DirichletBC(V, u_D, boundary)\n",
    "\n",
    "# Define initial value\n",
    "#u_n = interpolate(u_D, V)\n",
    "u_n = project(u_D, V) \n",
    "\n",
    "\n",
    "# Define variational problem\n",
    "u = TrialFunction(V)\n",
    "v = TestFunction(V)\n",
    "f = Constant(1)\n",
    "\n",
    "# code the vector field\n",
    "w=Constant(1)  #np.array([1,1])\n",
    "F = u*v*dx + dt*dot(grad(u), grad(v))*dx + dt*w*u*v*dx - (u_n + dt*f)*v*dx\n",
    "a, L = lhs(F), rhs(F)\n",
    "\n",
    "# Time-stepping\n",
    "u = Function(V)\n",
    "t = 0\n",
    "for n in range(num_steps):\n",
    "\n",
    "    # Update current time\n",
    "    t += dt\n",
    "#     u_D.t = t does not depend on t \n",
    "\n",
    "    # Compute solution\n",
    "    solve(a == L, u, bc)\n",
    "\n",
    "    # Plot solution\n",
    "    plot(u)\n",
    "\n",
    "#     # Compute error at vertices\n",
    "#     u_e = interpolate(u_D, V)\n",
    "#     error = np.abs(u_e.vector().array() - u.vector().array()).max()\n",
    "#     print('t = %.2f: error = %.3g' % (t, error))\n",
    "\n",
    "    # Update previous solution\n",
    "    u_n.assign(u)\n",
    "\n",
    "# Hold plot\n",
    "# interactive()"
   ]
  },
  {
   "cell_type": "code",
   "execution_count": 3,
   "id": "9eadf22f",
   "metadata": {},
   "outputs": [
    {
     "name": "stdout",
     "output_type": "stream",
     "text": [
      "<dolfin.fem.dirichletbc.DirichletBC object at 0x7f8cc919b950>\n"
     ]
    }
   ],
   "source": []
  }
 ],
 "metadata": {
  "kernelspec": {
   "display_name": "Python 3 (ipykernel)",
   "language": "python",
   "name": "python3"
  },
  "language_info": {
   "codemirror_mode": {
    "name": "ipython",
    "version": 3
   },
   "file_extension": ".py",
   "mimetype": "text/x-python",
   "name": "python",
   "nbconvert_exporter": "python",
   "pygments_lexer": "ipython3",
   "version": "3.8.12"
  }
 },
 "nbformat": 4,
 "nbformat_minor": 5
}
