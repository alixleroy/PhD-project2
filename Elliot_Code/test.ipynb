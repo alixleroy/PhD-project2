{
 "cells": [
  {
   "cell_type": "code",
   "execution_count": 1,
   "metadata": {},
   "outputs": [],
   "source": [
    "from fenics import *\n",
    "import numpy as np\n",
    "from vedo.dolfin import plot, Latex, clear, histogram\n",
    "#from mshr import *\n",
    "import matplotlib.pyplot as plt"
   ]
  },
  {
   "cell_type": "code",
   "execution_count": 15,
   "metadata": {},
   "outputs": [
    {
     "data": {
      "application/vnd.jupyter.widget-view+json": {
       "model_id": "c5cd5d860a584f15a9de9d3733eab63a",
       "version_major": 2,
       "version_minor": 0
      },
      "text/plain": [
       "ViewInteractiveWidget(height=958, layout=Layout(height='auto', width='100%'), width=960)"
      ]
     },
     "metadata": {},
     "output_type": "display_data"
    }
   ],
   "source": [
    "a, b = -1, 1\n",
    "nx = 32 # divisions in r direction\n",
    "ny = 32 # divisions in theta direction\n",
    "mesh = RectangleMesh(Point(a, -1), Point(b, 1), nx, ny)\n",
    "# First make a denser mesh towards r=a\n",
    "x = mesh.coordinates()[:,0]\n",
    "y = mesh.coordinates()[:,1]\n",
    "s = 2.5\n",
    "\n",
    "def denser(x,y):\n",
    "    return [b + (a-b)*((x-a)/(b-a))**s, y]\n",
    "\n",
    "x_bar, y_bar = denser(x, y)\n",
    "xy_bar_coor = np.array([x_bar, y_bar]).transpose()\n",
    "mesh.coordinates()[:] = xy_bar_coor\n",
    "plot(mesh, title=\"stretched mesh\", interactive=True)"
   ]
  },
  {
   "cell_type": "code",
   "execution_count": 16,
   "metadata": {},
   "outputs": [
    {
     "name": "stdout",
     "output_type": "stream",
     "text": [
      "1089 4225 16641\n"
     ]
    }
   ],
   "source": [
    "mesh2 = refine(mesh)\n",
    "mesh3 = refine(mesh2)\n",
    "print(mesh.num_vertices(), mesh2.num_vertices(), mesh3.num_vertices())"
   ]
  },
  {
   "cell_type": "code",
   "execution_count": 18,
   "metadata": {},
   "outputs": [
    {
     "data": {
      "application/vnd.jupyter.widget-view+json": {
       "model_id": "e7bbc0e9d1df4842ac5aecf0288ae9f4",
       "version_major": 2,
       "version_minor": 0
      },
      "text/plain": [
       "ViewInteractiveWidget(height=958, layout=Layout(height='auto', width='100%'), width=960)"
      ]
     },
     "metadata": {},
     "output_type": "display_data"
    }
   ],
   "source": [
    "plot(mesh2)"
   ]
  },
  {
   "cell_type": "code",
   "execution_count": null,
   "metadata": {},
   "outputs": [],
   "source": []
  }
 ],
 "metadata": {
  "interpreter": {
   "hash": "84d21117991f40770aa76a54b8824414b706b1be52493deeaad53f83c62b413d"
  },
  "kernelspec": {
   "display_name": "Python 3.8.12 ('fenicsproject')",
   "language": "python",
   "name": "python3"
  },
  "language_info": {
   "codemirror_mode": {
    "name": "ipython",
    "version": 3
   },
   "file_extension": ".py",
   "mimetype": "text/x-python",
   "name": "python",
   "nbconvert_exporter": "python",
   "pygments_lexer": "ipython3",
   "version": "3.8.12"
  },
  "orig_nbformat": 4
 },
 "nbformat": 4,
 "nbformat_minor": 2
}
